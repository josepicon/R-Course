{
  "nbformat": 4,
  "nbformat_minor": 0,
  "metadata": {
    "colab": {
      "name": "Código.ipynb",
      "provenance": []
    },
    "kernelspec": {
      "name": "python3",
      "display_name": "Python 3"
    },
    "language_info": {
      "name": "python"
    }
  },
  "cells": [
    {
      "cell_type": "code",
      "execution_count": 86,
      "metadata": {
        "colab": {
          "base_uri": "https://localhost:8080/",
          "height": 206
        },
        "id": "-u1vsPthNyco",
        "outputId": "0ca67b2e-9a2b-4e99-958a-8bca191d1c42"
      },
      "outputs": [
        {
          "output_type": "execute_result",
          "data": {
            "text/plain": [
              "                                            headline  clickbait\n",
              "0                                 Should I Get Bings          1\n",
              "1      Which TV Female Friend Group Do You Belong In          1\n",
              "2  The New \"Star Wars: The Force Awakens\" Trailer...          1\n",
              "3  This Vine Of New York On \"Celebrity Big Brothe...          1\n",
              "4  A Couple Did A Stunning Photo Shoot With Their...          1"
            ],
            "text/html": [
              "\n",
              "  <div id=\"df-02e4181e-ca98-4217-99eb-67469507790b\">\n",
              "    <div class=\"colab-df-container\">\n",
              "      <div>\n",
              "<style scoped>\n",
              "    .dataframe tbody tr th:only-of-type {\n",
              "        vertical-align: middle;\n",
              "    }\n",
              "\n",
              "    .dataframe tbody tr th {\n",
              "        vertical-align: top;\n",
              "    }\n",
              "\n",
              "    .dataframe thead th {\n",
              "        text-align: right;\n",
              "    }\n",
              "</style>\n",
              "<table border=\"1\" class=\"dataframe\">\n",
              "  <thead>\n",
              "    <tr style=\"text-align: right;\">\n",
              "      <th></th>\n",
              "      <th>headline</th>\n",
              "      <th>clickbait</th>\n",
              "    </tr>\n",
              "  </thead>\n",
              "  <tbody>\n",
              "    <tr>\n",
              "      <th>0</th>\n",
              "      <td>Should I Get Bings</td>\n",
              "      <td>1</td>\n",
              "    </tr>\n",
              "    <tr>\n",
              "      <th>1</th>\n",
              "      <td>Which TV Female Friend Group Do You Belong In</td>\n",
              "      <td>1</td>\n",
              "    </tr>\n",
              "    <tr>\n",
              "      <th>2</th>\n",
              "      <td>The New \"Star Wars: The Force Awakens\" Trailer...</td>\n",
              "      <td>1</td>\n",
              "    </tr>\n",
              "    <tr>\n",
              "      <th>3</th>\n",
              "      <td>This Vine Of New York On \"Celebrity Big Brothe...</td>\n",
              "      <td>1</td>\n",
              "    </tr>\n",
              "    <tr>\n",
              "      <th>4</th>\n",
              "      <td>A Couple Did A Stunning Photo Shoot With Their...</td>\n",
              "      <td>1</td>\n",
              "    </tr>\n",
              "  </tbody>\n",
              "</table>\n",
              "</div>\n",
              "      <button class=\"colab-df-convert\" onclick=\"convertToInteractive('df-02e4181e-ca98-4217-99eb-67469507790b')\"\n",
              "              title=\"Convert this dataframe to an interactive table.\"\n",
              "              style=\"display:none;\">\n",
              "        \n",
              "  <svg xmlns=\"http://www.w3.org/2000/svg\" height=\"24px\"viewBox=\"0 0 24 24\"\n",
              "       width=\"24px\">\n",
              "    <path d=\"M0 0h24v24H0V0z\" fill=\"none\"/>\n",
              "    <path d=\"M18.56 5.44l.94 2.06.94-2.06 2.06-.94-2.06-.94-.94-2.06-.94 2.06-2.06.94zm-11 1L8.5 8.5l.94-2.06 2.06-.94-2.06-.94L8.5 2.5l-.94 2.06-2.06.94zm10 10l.94 2.06.94-2.06 2.06-.94-2.06-.94-.94-2.06-.94 2.06-2.06.94z\"/><path d=\"M17.41 7.96l-1.37-1.37c-.4-.4-.92-.59-1.43-.59-.52 0-1.04.2-1.43.59L10.3 9.45l-7.72 7.72c-.78.78-.78 2.05 0 2.83L4 21.41c.39.39.9.59 1.41.59.51 0 1.02-.2 1.41-.59l7.78-7.78 2.81-2.81c.8-.78.8-2.07 0-2.86zM5.41 20L4 18.59l7.72-7.72 1.47 1.35L5.41 20z\"/>\n",
              "  </svg>\n",
              "      </button>\n",
              "      \n",
              "  <style>\n",
              "    .colab-df-container {\n",
              "      display:flex;\n",
              "      flex-wrap:wrap;\n",
              "      gap: 12px;\n",
              "    }\n",
              "\n",
              "    .colab-df-convert {\n",
              "      background-color: #E8F0FE;\n",
              "      border: none;\n",
              "      border-radius: 50%;\n",
              "      cursor: pointer;\n",
              "      display: none;\n",
              "      fill: #1967D2;\n",
              "      height: 32px;\n",
              "      padding: 0 0 0 0;\n",
              "      width: 32px;\n",
              "    }\n",
              "\n",
              "    .colab-df-convert:hover {\n",
              "      background-color: #E2EBFA;\n",
              "      box-shadow: 0px 1px 2px rgba(60, 64, 67, 0.3), 0px 1px 3px 1px rgba(60, 64, 67, 0.15);\n",
              "      fill: #174EA6;\n",
              "    }\n",
              "\n",
              "    [theme=dark] .colab-df-convert {\n",
              "      background-color: #3B4455;\n",
              "      fill: #D2E3FC;\n",
              "    }\n",
              "\n",
              "    [theme=dark] .colab-df-convert:hover {\n",
              "      background-color: #434B5C;\n",
              "      box-shadow: 0px 1px 3px 1px rgba(0, 0, 0, 0.15);\n",
              "      filter: drop-shadow(0px 1px 2px rgba(0, 0, 0, 0.3));\n",
              "      fill: #FFFFFF;\n",
              "    }\n",
              "  </style>\n",
              "\n",
              "      <script>\n",
              "        const buttonEl =\n",
              "          document.querySelector('#df-02e4181e-ca98-4217-99eb-67469507790b button.colab-df-convert');\n",
              "        buttonEl.style.display =\n",
              "          google.colab.kernel.accessAllowed ? 'block' : 'none';\n",
              "\n",
              "        async function convertToInteractive(key) {\n",
              "          const element = document.querySelector('#df-02e4181e-ca98-4217-99eb-67469507790b');\n",
              "          const dataTable =\n",
              "            await google.colab.kernel.invokeFunction('convertToInteractive',\n",
              "                                                     [key], {});\n",
              "          if (!dataTable) return;\n",
              "\n",
              "          const docLinkHtml = 'Like what you see? Visit the ' +\n",
              "            '<a target=\"_blank\" href=https://colab.research.google.com/notebooks/data_table.ipynb>data table notebook</a>'\n",
              "            + ' to learn more about interactive tables.';\n",
              "          element.innerHTML = '';\n",
              "          dataTable['output_type'] = 'display_data';\n",
              "          await google.colab.output.renderOutput(dataTable, element);\n",
              "          const docLink = document.createElement('div');\n",
              "          docLink.innerHTML = docLinkHtml;\n",
              "          element.appendChild(docLink);\n",
              "        }\n",
              "      </script>\n",
              "    </div>\n",
              "  </div>\n",
              "  "
            ]
          },
          "metadata": {},
          "execution_count": 86
        }
      ],
      "source": [
        "import pandas as pd\n",
        "import numpy as np\n",
        "import matplotlib.pyplot as plt\n",
        "import seaborn as sns\n",
        "import itertools\n",
        "import random\n",
        "import string as s\n",
        "import re\n",
        "import os\n",
        "\n",
        "import spacy\n",
        "from spacy.util import minibatch, compounding\n",
        "\n",
        "\n",
        "import nltk\n",
        "from nltk.corpus import stopwords\n",
        "from nltk.stem.porter import PorterStemmer\n",
        "from nltk.stem import WordNetLemmatizer\n",
        "\n",
        "from nltk.corpus import stopwords\n",
        "from nltk import SnowballStemmer, word_tokenize\n",
        "\n",
        "from sklearn.naive_bayes import MultinomialNB\n",
        "from sklearn import metrics\n",
        "from sklearn.feature_extraction.text import CountVectorizer\n",
        "from sklearn.feature_extraction.text import TfidfVectorizer\n",
        "from sklearn.model_selection import train_test_split, GridSearchCV\n",
        "from sklearn.metrics import classification_report\n",
        "from sklearn.metrics import confusion_matrix,accuracy_score,roc_auc_score,roc_curve,auc,f1_score\n",
        "from mlxtend.plotting import plot_confusion_matrix\n",
        "from sklearn.svm import SVC\n",
        "\n",
        "import xgboost as xgb\n",
        "from xgboost import XGBClassifier\n",
        "from sklearn.cluster import KMeans\n",
        "from lightgbm import LGBMClassifier\n",
        "\n",
        "\n",
        "lemmatizer=nltk.stem.WordNetLemmatizer()\n",
        "\n",
        "\n",
        "dataset_url = 'https://raw.githubusercontent.com/josepicon/URL-/main/MD009%20-%20Advanced%20Data%20Analysis%20Tools/Project/clickbait_data.csv'\n",
        "data = pd.read_csv(dataset_url)\n",
        "data.head()"
      ]
    },
    {
      "cell_type": "code",
      "source": [
        "data.clickbait.value_counts()"
      ],
      "metadata": {
        "colab": {
          "base_uri": "https://localhost:8080/"
        },
        "id": "GTwGit5nOXNP",
        "outputId": "21328998-6665-4f2f-f991-8cf051064f90"
      },
      "execution_count": 21,
      "outputs": [
        {
          "output_type": "execute_result",
          "data": {
            "text/plain": [
              "0    16001\n",
              "1    15999\n",
              "Name: clickbait, dtype: int64"
            ]
          },
          "metadata": {},
          "execution_count": 21
        }
      ]
    },
    {
      "cell_type": "code",
      "source": [
        "fig, ax = plt.subplots(figsize=(10, 6))\n",
        "sns.countplot(data = data, x='clickbait')\n",
        "plt.show()"
      ],
      "metadata": {
        "colab": {
          "base_uri": "https://localhost:8080/",
          "height": 388
        },
        "id": "5sqJ_nedTjN7",
        "outputId": "a383dd09-5058-4b57-cf52-fb48b7097c67"
      },
      "execution_count": 22,
      "outputs": [
        {
          "output_type": "display_data",
          "data": {
            "text/plain": [
              "<Figure size 720x432 with 1 Axes>"
            ],
            "image/png": "[encoded data removed]"
          },
          "metadata": {
            "needs_background": "light"
          }
        }
      ]
    },
    {
      "cell_type": "code",
      "source": [
        "data.isnull().sum()"
      ],
      "metadata": {
        "colab": {
          "base_uri": "https://localhost:8080/"
        },
        "id": "Jxq95ZV6QKHi",
        "outputId": "8dd4eb2f-6093-4cda-edde-8ffebaf17171"
      },
      "execution_count": 23,
      "outputs": [
        {
          "output_type": "execute_result",
          "data": {
            "text/plain": [
              "headline     0\n",
              "clickbait    0\n",
              "tuples       0\n",
              "dtype: int64"
            ]
          },
          "metadata": {},
          "execution_count": 23
        }
      ]
    },
    {
      "cell_type": "code",
      "source": [
        "x_train, x_test, y_train, y_test = train_test_split(data.headline, data.clickbait, stratify=data.clickbait, random_state=1, test_size=0.3, shuffle=True)"
      ],
      "metadata": {
        "id": "vU4GVX9kQP3d"
      },
      "execution_count": 111,
      "outputs": []
    },
    {
      "cell_type": "code",
      "source": [
        "tfidf=TfidfVectorizer()\n",
        "tfidf_train=tfidf.fit_transform(x_train)\n",
        "len(tfidf.vocabulary_)"
      ],
      "metadata": {
        "colab": {
          "base_uri": "https://localhost:8080/"
        },
        "id": "G43ZqlHEIe04",
        "outputId": "eb75cffa-fc10-41db-bf87-5c458bb07a69"
      },
      "execution_count": 112,
      "outputs": [
        {
          "output_type": "execute_result",
          "data": {
            "text/plain": [
              "19467"
            ]
          },
          "metadata": {},
          "execution_count": 112
        }
      ]
    },
    {
      "cell_type": "code",
      "source": [
        "print(\"Tamaño de X_train\",x_train.shape,\"\\nTamaño de X_test\", x_test.shape,\"\\nTamaño de Y_train\",\n",
        "      y_train.shape,\"\\nTamaño de Y_test\", y_test.shape)\n"
      ],
      "metadata": {
        "colab": {
          "base_uri": "https://localhost:8080/"
        },
        "id": "9BsMhQewT4RW",
        "outputId": "8a60b72b-9761-4f64-bdaa-2d4da773f35b"
      },
      "execution_count": 113,
      "outputs": [
        {
          "output_type": "stream",
          "name": "stdout",
          "text": [
            "Tamaño de X_train (22400,) \n",
            "Tamaño de X_test (9600,) \n",
            "Tamaño de Y_train (22400,) \n",
            "Tamaño de Y_test (9600,)\n"
          ]
        }
      ]
    },
    {
      "cell_type": "code",
      "source": [
        "#Tokenization of the data where we are splitting the headlines into tokens (individual words) \n",
        "def token(text):\n",
        "    lst=text.split()\n",
        "    return lst\n",
        "\n",
        "#transforming all the text into lowercase \n",
        "def lowercase(lst):\n",
        "    new_lst=[]\n",
        "    for i in lst:\n",
        "        i=i.lower()\n",
        "        new_lst.append(i)\n",
        "    return new_lst\n",
        "\n",
        "#remove punctuations \n",
        "def punctuations(lst):\n",
        "    new_lst=[]\n",
        "    for i in lst:\n",
        "        for j in s.punctuation:\n",
        "            i=i.replace(j,'')\n",
        "        new_lst.append(i)\n",
        "    return new_lst\n",
        "\n",
        "#remove stopwords\n",
        "def sw(lst):\n",
        "    stop=stopwords.words('english')\n",
        "    new_lst=[]\n",
        "    for i in lst:\n",
        "        if i not in stop:\n",
        "            new_lst.append(i)\n",
        "    return new_lst\n",
        "\n",
        "#remove spaces \n",
        "def spaces(yes):\n",
        "    new_yes=[]\n",
        "    for i in yes:\n",
        "        i=i.strip()\n",
        "        new_yes.append(i)\n",
        "    return new_yes\n",
        "\n",
        "def lemmatzation(yes):\n",
        "    new_yes=[]\n",
        "    for i in yes:\n",
        "        i=lemmatizer.lemmatize(i)\n",
        "        new_yes.append(i)\n",
        "    return new_yes\n",
        "\n",
        "\n",
        "def numbers(text):\n",
        "    new_yes=[]\n",
        "    for i in text:\n",
        "        review = re.sub('[^a-zA-Z]', ' ', i)\n",
        "        new_yes.append(review)\n",
        "    return new_yes\n",
        "\n",
        "#Function for Plotting the confusion matrix\n",
        "def plot_confusion_matrix(y_test, y_pred):\n",
        "    #Create Confusion Matrix\n",
        "    cm = confusion_matrix(y_test, y_pred)\n",
        "\n",
        "    # Create a dataframe with the confusion matrix values\n",
        "    df_cm = pd.DataFrame(cm, range(cm.shape[0]),\n",
        "                  range(cm.shape[1]))\n",
        "    plt.figure(figsize = (10,7))\n",
        "    # Plot the confusion matrix\n",
        "    sns.set(font_scale=1.4) #for label size\n",
        "    sns.heatmap(df_cm, annot=True,fmt='.0f',annot_kws={\"size\": 10})# font size\n",
        "    plt.show()\n",
        "\n",
        "#Function for Plotting the ROC Curve\n",
        "def plot_roc_curve(y_test, y_pred):\n",
        "    \n",
        "    fpr, tpr, thresholds = roc_curve(y_test, y_pred, pos_label=1)\n",
        "    roc_auc= auc(fpr,tpr)\n",
        "\n",
        "    plt.title('Receiver Operating Characteristic')\n",
        "    plt.plot(fpr, tpr, 'b', label = 'AUC = %0.2f' % roc_auc)\n",
        "    plt.legend(loc = 'lower right')\n",
        "    plt.plot([0, 1], [0, 1],'r--')\n",
        "    plt.xlim([0, 1])\n",
        "    plt.ylim([0, 1])\n",
        "    plt.ylabel('True Positive Rate')\n",
        "    plt.xlabel('False Positive Rate')\n",
        "    plt.show()\n"
      ],
      "metadata": {
        "id": "uw-Vjuj4SBeB"
      },
      "execution_count": 114,
      "outputs": []
    },
    {
      "cell_type": "code",
      "source": [
        "x_train=x_train.apply(token)\n",
        "x_test=x_test.apply(token)\n",
        "x_train=x_train.apply(lowercase)\n",
        "x_test=x_test.apply(lowercase)\n",
        "x_train=x_train.apply(punctuations)\n",
        "x_test=x_test.apply(punctuations)\n",
        "x_train=x_train.apply(sw)\n",
        "x_test=x_test.apply(sw)\n",
        "x_train=x_train.apply(numbers)\n",
        "x_test=x_test.apply(numbers)\n",
        "x_train=x_train.apply(spaces)\n",
        "x_test=x_test.apply(spaces)\n",
        "x_train=no_lem_train=x_train.apply(lemmatzation)\n",
        "x_test=no_lem_test=x_test.apply(lemmatzation)\n"
      ],
      "metadata": {
        "id": "q5d1dAQFTPhp"
      },
      "execution_count": 115,
      "outputs": []
    },
    {
      "cell_type": "code",
      "source": [
        "x_train=x_train.apply(lambda x: ' '.join(x))\n",
        "x_test=x_test.apply(lambda x: ' '.join(x))\n",
        "no_lem_train=no_lem_train.apply(lambda x: ' '.join(x))\n",
        "no_lem_test=no_lem_test.apply(lambda x: ' '.join(x))"
      ],
      "metadata": {
        "colab": {
          "base_uri": "https://localhost:8080/"
        },
        "id": "vWLeRKWfVj5C",
        "outputId": "bfc4476a-22c1-44dd-bae9-37f7fc0f4df3"
      },
      "execution_count": 116,
      "outputs": [
        {
          "output_type": "stream",
          "name": "stdout",
          "text": [
            "get bings\n"
          ]
        }
      ]
    },
    {
      "cell_type": "code",
      "source": [
        "tfidf=TfidfVectorizer()\n",
        "tfidf_train=tfidf.fit_transform(x_train)\n",
        "tfidf_test=tfidf.transform(x_test)\n",
        "len(tfidf.vocabulary_)"
      ],
      "metadata": {
        "colab": {
          "base_uri": "https://localhost:8080/"
        },
        "id": "bjwlJXpAYvAc",
        "outputId": "b23f8dc6-415e-443e-cac2-fabfae40b43f"
      },
      "execution_count": 117,
      "outputs": [
        {
          "output_type": "execute_result",
          "data": {
            "text/plain": [
              "17670"
            ]
          },
          "metadata": {},
          "execution_count": 117
        }
      ]
    },
    {
      "cell_type": "code",
      "source": [
        "params = {'alpha': [0.01, 0.1, 0.5, 1.0, 10.0],\n",
        "         }\n",
        "\n",
        "model = GridSearchCV(MultinomialNB(), param_grid=params, n_jobs=-1, cv=5, verbose=4).fit(tfidf_train, y_train)\n",
        "\n",
        "y_pred = model.predict(tfidf_test)\n",
        "print(\"Accuracy score for MultinomialNB is: \", accuracy_score(y_test, y_pred) * 100, '%')\n",
        "print('Metrics Classification Report:')\n",
        "print(metrics.classification_report(y_test, y_pred,  digits=5))\n",
        "plot_confusion_matrix(y_test, y_pred)\n",
        "plot_roc_curve(y_test, y_pred)"
      ],
      "metadata": {
        "colab": {
          "base_uri": "https://localhost:8080/",
          "height": 942
        },
        "id": "3XKmnKEoZCkK",
        "outputId": "d723296d-3450-4b50-93e2-a20d4066447a"
      },
      "execution_count": 71,
      "outputs": [
        {
          "output_type": "stream",
          "name": "stdout",
          "text": [
            "Fitting 5 folds for each of 5 candidates, totalling 25 fits\n",
            "Accuracy score for MultinomialNB is:  96.28125 %\n",
            "Metrics Classification Report:\n",
            "              precision    recall  f1-score   support\n",
            "\n",
            "           0    0.96956   0.95562   0.96254      4800\n",
            "           1    0.95625   0.97000   0.96308      4800\n",
            "\n",
            "    accuracy                        0.96281      9600\n",
            "   macro avg    0.96291   0.96281   0.96281      9600\n",
            "weighted avg    0.96291   0.96281   0.96281      9600\n",
            "\n"
          ]
        },
        {
          "output_type": "display_data",
          "data": {
            "text/plain": [
              "<Figure size 720x504 with 2 Axes>"
            ],
            "image/png": "[encoded data removed]"
          },
          "metadata": {}
        },
        {
          "output_type": "display_data",
          "data": {
            "text/plain": [
              "<Figure size 432x288 with 1 Axes>"
            ],
            "image/png": "[encoded data removed]"
          },
          "metadata": {}
        }
      ]
    },
    {
      "cell_type": "code",
      "source": [
        "cv = CountVectorizer(max_features=5000,ngram_range=(2,2))\n",
        "X = cv.fit_transform(no_lem_train).toarray()\n",
        "feature_names = cv.get_feature_names()\n",
        "sorted(zip(model.best_estimator_.coef_[0], feature_names), reverse=True)[:20]"
      ],
      "metadata": {
        "colab": {
          "base_uri": "https://localhost:8080/"
        },
        "id": "14n-ILzMd14S",
        "outputId": "f4515421-ea99-4be5-ae23-f72bc54b91d1"
      },
      "execution_count": 74,
      "outputs": [
        {
          "output_type": "stream",
          "name": "stderr",
          "text": [
            "/usr/local/lib/python3.7/dist-packages/sklearn/utils/deprecation.py:87: FutureWarning: Function get_feature_names is deprecated; get_feature_names is deprecated in 1.0 and will be removed in 1.2. Please use get_feature_names_out instead.\n",
            "  warnings.warn(msg, category=FutureWarning)\n",
            "/usr/local/lib/python3.7/dist-packages/sklearn/utils/deprecation.py:103: FutureWarning: Attribute `coef_` was deprecated in version 0.24 and will be removed in 1.1 (renaming of 0.26).\n",
            "  warnings.warn(msg, category=FutureWarning)\n"
          ]
        },
        {
          "output_type": "execute_result",
          "data": {
            "text/plain": [
              "[(-5.54700133307169, 'anyone obsessed'),\n",
              " (-5.566156287530232, 'evo morale'),\n",
              " (-5.764742369906911, 'french open'),\n",
              " (-5.910572051709538, 'marry kill'),\n",
              " (-6.325736406278518, 'nato take'),\n",
              " (-6.351921379815612, 'try bizarre'),\n",
              " (-6.402081678158832, 'lover need'),\n",
              " (-6.407142846360739, 'three minute'),\n",
              " (-6.479147597821222, 'shed never'),\n",
              " (-6.620032417912548, 'like shit'),\n",
              " (-6.7243960793229505, 'people review'),\n",
              " (-6.7523918375474405, 'hall fame'),\n",
              " (-6.796403118539709, 'church scientology'),\n",
              " (-6.855462110834747, 'probably never'),\n",
              " (-6.857321946378986, 'australian senate'),\n",
              " (-6.8785498860320615, 'candy corn'),\n",
              " (-6.902573791266265, 'station ban'),\n",
              " (-6.941508698010982, 'powerful photo'),\n",
              " (-6.942805924262254, 'give intense'),\n",
              " (-6.9685196453555465, 'friend fan')]"
            ]
          },
          "metadata": {},
          "execution_count": 74
        }
      ]
    },
    {
      "cell_type": "code",
      "source": [
        "# word sets that are mostly clickbait \n",
        "sorted(zip(model.best_estimator_.coef_[0], feature_names))[:20]"
      ],
      "metadata": {
        "colab": {
          "base_uri": "https://localhost:8080/"
        },
        "id": "WwxqmkxTeC9c",
        "outputId": "3fa82fa6-9a2d-41e9-98ef-a6ced2d28ace"
      },
      "execution_count": 73,
      "outputs": [
        {
          "output_type": "stream",
          "name": "stderr",
          "text": [
            "/usr/local/lib/python3.7/dist-packages/sklearn/utils/deprecation.py:103: FutureWarning: Attribute `coef_` was deprecated in version 0.24 and will be removed in 1.1 (renaming of 0.26).\n",
            "  warnings.warn(msg, category=FutureWarning)\n"
          ]
        },
        {
          "output_type": "execute_result",
          "data": {
            "text/plain": [
              "[(-11.142457920423464, 'abdelbaset ali'),\n",
              " (-11.142457920423464, 'able answer'),\n",
              " (-11.142457920423464, 'absolute best'),\n",
              " (-11.142457920423464, 'abu ghraib'),\n",
              " (-11.142457920423464, 'academy science'),\n",
              " (-11.142457920423464, 'acceptance speech'),\n",
              " (-11.142457920423464, 'activist arrested'),\n",
              " (-11.142457920423464, 'actor peter'),\n",
              " (-11.142457920423464, 'actually belong'),\n",
              " (-11.142457920423464, 'actually best'),\n",
              " (-11.142457920423464, 'actually buy'),\n",
              " (-11.142457920423464, 'actually change'),\n",
              " (-11.142457920423464, 'actually delicious'),\n",
              " (-11.142457920423464, 'actually easy'),\n",
              " (-11.142457920423464, 'actually eat'),\n",
              " (-11.142457920423464, 'actually exist'),\n",
              " (-11.142457920423464, 'actually get'),\n",
              " (-11.142457920423464, 'actually got'),\n",
              " (-11.142457920423464, 'actually help'),\n",
              " (-11.142457920423464, 'actually helped')]"
            ]
          },
          "metadata": {},
          "execution_count": 73
        }
      ]
    },
    {
      "cell_type": "code",
      "source": [
        "# Define the parameters to tune\n",
        "parameters = { \n",
        "    'C': [1.0, 10],\n",
        "    'gamma': [1, 'auto', 'scale']\n",
        "}\n",
        "# Tune yyperparameters  using Grid Search and a SVM model\n",
        "model = GridSearchCV(SVC(kernel='rbf'), parameters, cv=5, n_jobs=-1,verbose=4).fit(tfidf_train, y_train)"
      ],
      "metadata": {
        "colab": {
          "base_uri": "https://localhost:8080/"
        },
        "id": "Yh8S0XkXgJXw",
        "outputId": "39441305-e3d2-4b05-9cea-ebd93de6a97d"
      },
      "execution_count": 175,
      "outputs": [
        {
          "output_type": "stream",
          "name": "stdout",
          "text": [
            "Fitting 5 folds for each of 6 candidates, totalling 30 fits\n"
          ]
        }
      ]
    },
    {
      "cell_type": "code",
      "source": [
        "y_pred = model.predict(tfidf_test)\n",
        "print(\"Accuracy score for SVC is: \", accuracy_score(y_test, y_pred) * 100, '%')\n",
        "print('Metrics Classification Report:')\n",
        "print(metrics.classification_report(y_test, y_pred,  digits=5))\n",
        "plot_confusion_matrix(y_test, y_pred)\n",
        "plot_roc_curve(y_test, y_pred)"
      ],
      "metadata": {
        "colab": {
          "base_uri": "https://localhost:8080/",
          "height": 925
        },
        "id": "qf6R0ubsojtY",
        "outputId": "e5bd7cee-5f0a-41f0-9c40-d023e71d0abe"
      },
      "execution_count": 182,
      "outputs": [
        {
          "output_type": "stream",
          "name": "stdout",
          "text": [
            "Accuracy score for SVC is:  95.84375 %\n",
            "Metrics Classification Report:\n",
            "              precision    recall  f1-score   support\n",
            "\n",
            "           0    0.95324   0.96417   0.95867      4800\n",
            "           1    0.96375   0.95271   0.95820      4800\n",
            "\n",
            "    accuracy                        0.95844      9600\n",
            "   macro avg    0.95850   0.95844   0.95844      9600\n",
            "weighted avg    0.95850   0.95844   0.95844      9600\n",
            "\n"
          ]
        },
        {
          "output_type": "display_data",
          "data": {
            "text/plain": [
              "<Figure size 720x504 with 2 Axes>"
            ],
            "image/png": "[encoded data removed]"
          },
          "metadata": {
            "needs_background": "light"
          }
        },
        {
          "output_type": "display_data",
          "data": {
            "text/plain": [
              "<Figure size 432x288 with 1 Axes>"
            ],
            "image/png": "[encoded data removed]"
          },
          "metadata": {}
        }
      ]
    },
    {
      "cell_type": "code",
      "source": [
        "parameters = {'min_child_weight': [5, 10],\n",
        "        'gamma': [0.5, 2, 5],\n",
        "        'subsample': [0.5, 1.0],\n",
        "        'colsample_bytree': [0.5, 1.0],\n",
        "        'max_depth': [5, 10]}\n",
        "\n",
        "model = GridSearchCV(XGBClassifier(), parameters, cv=5, n_jobs=-1,verbose=4).fit(tfidf_train, y_train)"
      ],
      "metadata": {
        "colab": {
          "base_uri": "https://localhost:8080/"
        },
        "id": "fLJdIFCxokgn",
        "outputId": "8d0f6e22-7636-456d-9c73-3df758b8c3a9"
      },
      "execution_count": 190,
      "outputs": [
        {
          "output_type": "stream",
          "name": "stdout",
          "text": [
            "Fitting 5 folds for each of 48 candidates, totalling 240 fits\n"
          ]
        }
      ]
    },
    {
      "cell_type": "code",
      "source": [
        "y_pred = model.predict(tfidf_test)\n",
        "print(\"Accuracy score for XGBClassifier is: \", accuracy_score(y_test, y_pred) * 100, '%')\n",
        "print('Metrics Classification Report:')\n",
        "print(metrics.classification_report(y_test, y_pred,  digits=5))\n",
        "plot_confusion_matrix(y_test, y_pred)\n",
        "plot_roc_curve(y_test, y_pred)"
      ],
      "metadata": {
        "colab": {
          "base_uri": "https://localhost:8080/",
          "height": 925
        },
        "id": "tD35u6wpqmy-",
        "outputId": "70d0a6b5-0f80-477f-8d49-ca1b3160c657"
      },
      "execution_count": 191,
      "outputs": [
        {
          "output_type": "stream",
          "name": "stdout",
          "text": [
            "Accuracy score for SVC is:  85.07291666666667 %\n",
            "Metrics Classification Report:\n",
            "              precision    recall  f1-score   support\n",
            "\n",
            "           0    0.79243   0.95042   0.86426      4800\n",
            "           1    0.93807   0.75104   0.83420      4800\n",
            "\n",
            "    accuracy                        0.85073      9600\n",
            "   macro avg    0.86525   0.85073   0.84923      9600\n",
            "weighted avg    0.86525   0.85073   0.84923      9600\n",
            "\n"
          ]
        },
        {
          "output_type": "display_data",
          "data": {
            "text/plain": [
              "<Figure size 720x504 with 2 Axes>"
            ],
            "image/png": "[encoded data removed]"
          },
          "metadata": {}
        },
        {
          "output_type": "display_data",
          "data": {
            "text/plain": [
              "<Figure size 432x288 with 1 Axes>"
            ],
            "image/png": "[encoded data removed]"
          },
          "metadata": {}
        }
      ]
    },
    {
      "cell_type": "code",
      "source": [
        "nlp=spacy.load(\"en_core_web_sm\")\n",
        "nlp.pipe_names"
      ],
      "metadata": {
        "colab": {
          "base_uri": "https://localhost:8080/"
        },
        "id": "lEma3WkgwnT2",
        "outputId": "5532e5f7-a005-4898-d2bc-e10e09a2fdbf"
      },
      "execution_count": 12,
      "outputs": [
        {
          "output_type": "execute_result",
          "data": {
            "text/plain": [
              "['tagger', 'parser', 'ner']"
            ]
          },
          "metadata": {},
          "execution_count": 12
        }
      ]
    },
    {
      "cell_type": "code",
      "source": [
        "textcat=nlp.create_pipe( \"textcat\", config={\"exclusive_classes\": True})\n",
        "nlp.add_pipe(textcat, last=True)\n",
        "nlp.pipe_names"
      ],
      "metadata": {
        "colab": {
          "base_uri": "https://localhost:8080/"
        },
        "id": "Uph0hyHuxRiV",
        "outputId": "63d40b5c-bd84-4364-d55f-eeb233f4e52d"
      },
      "execution_count": 13,
      "outputs": [
        {
          "output_type": "execute_result",
          "data": {
            "text/plain": [
              "['tagger', 'parser', 'ner', 'textcat']"
            ]
          },
          "metadata": {},
          "execution_count": 13
        }
      ]
    },
    {
      "cell_type": "code",
      "source": [
        "textcat.add_label(\"POSITIVE\")\n",
        "textcat.add_label(\"NEGATIVE\")"
      ],
      "metadata": {
        "colab": {
          "base_uri": "https://localhost:8080/"
        },
        "id": "84jQumObyFmn",
        "outputId": "104cda44-61fd-435a-c3ce-f98f779cc1d8"
      },
      "execution_count": 14,
      "outputs": [
        {
          "output_type": "execute_result",
          "data": {
            "text/plain": [
              "1"
            ]
          },
          "metadata": {},
          "execution_count": 14
        }
      ]
    },
    {
      "cell_type": "code",
      "source": [
        "data['tuples'] = data.apply(lambda row: (row['headline'].casefold(),row['clickbait']), axis=1)\n",
        "train = data['tuples'].tolist()\n",
        "train[:10]"
      ],
      "metadata": {
        "colab": {
          "base_uri": "https://localhost:8080/"
        },
        "id": "vZoJaDWLyJTS",
        "outputId": "6305b043-1b53-498f-fe77-834c9a415cbe"
      },
      "execution_count": 15,
      "outputs": [
        {
          "output_type": "execute_result",
          "data": {
            "text/plain": [
              "[('should i get bings', 1),\n",
              " ('which tv female friend group do you belong in', 1),\n",
              " ('the new \"star wars: the force awakens\" trailer is here to give you chills',\n",
              "  1),\n",
              " ('this vine of new york on \"celebrity big brother\" is fucking perfect', 1),\n",
              " ('a couple did a stunning photo shoot with their baby after learning she had an inoperable brain tumor',\n",
              "  1),\n",
              " ('how to flirt with queer girls without making a total fool of yourself', 1),\n",
              " ('32 cute things to distract from your awkward thanksgiving', 1),\n",
              " ('if disney princesses were from florida', 1),\n",
              " (\"what's a quote or lyric that best describes your depression\", 1),\n",
              " ('natalie dormer and sam claflin play a game to see how they\\'d actually last in \"the hunger games\"',\n",
              "  1)]"
            ]
          },
          "metadata": {},
          "execution_count": 15
        }
      ]
    },
    {
      "cell_type": "code",
      "source": [
        "def load_data(limit=0, split=0.8):\n",
        "    train_data=train\n",
        "    # Shuffle the data\n",
        "    random.shuffle(train_data)\n",
        "    texts, labels = zip(*train_data)\n",
        "    # get the categories for each review\n",
        "    cats = [{\"POSITIVE\": bool(y), \"NEGATIVE\": not bool(y)} for y in labels]\n",
        "\n",
        "    # Splitting the training and evaluation data\n",
        "    split = int(len(train_data) * split)\n",
        "    return (texts[:split], cats[:split]), (texts[split:], cats[split:])\n",
        "\n",
        "n_texts=23486\n",
        "\n",
        "# Calling the load_data() function \n",
        "(train_texts, train_cats), (dev_texts, dev_cats) = load_data(limit=n_texts)\n",
        "\n",
        "# Processing the final format of training data\n",
        "train_data = list(zip(train_texts,[{'cats': cats} for cats in train_cats]))\n",
        "train_data[:10]\n"
      ],
      "metadata": {
        "colab": {
          "base_uri": "https://localhost:8080/"
        },
        "id": "4h8GD28_y1q0",
        "outputId": "44a6b293-2bf6-4073-d9ad-56c996f3c834"
      },
      "execution_count": 16,
      "outputs": [
        {
          "output_type": "execute_result",
          "data": {
            "text/plain": [
              "[('which \"x-men\" heroine are you',\n",
              "  {'cats': {'NEGATIVE': False, 'POSITIVE': True}}),\n",
              " ('where iron is bigger than oil or gold',\n",
              "  {'cats': {'NEGATIVE': True, 'POSITIVE': False}}),\n",
              " ('how well do you know regina george',\n",
              "  {'cats': {'NEGATIVE': False, 'POSITIVE': True}}),\n",
              " (\"here's what happens when tater tots and cheeseburgers join forces\",\n",
              "  {'cats': {'NEGATIVE': False, 'POSITIVE': True}}),\n",
              " ('kenya negotiations resume; parliament to debate power sharing accord',\n",
              "  {'cats': {'NEGATIVE': True, 'POSITIVE': False}}),\n",
              " ('amy schumer perfectly shut down a film critic for his sexist comment',\n",
              "  {'cats': {'NEGATIVE': False, 'POSITIVE': True}}),\n",
              " (\"two huge broadway stars covered selena gomez and it's amazing\",\n",
              "  {'cats': {'NEGATIVE': False, 'POSITIVE': True}}),\n",
              " ('un demands return of aid seized by hamas',\n",
              "  {'cats': {'NEGATIVE': True, 'POSITIVE': False}}),\n",
              " ('robbery suspect flees on riding mower',\n",
              "  {'cats': {'NEGATIVE': True, 'POSITIVE': False}}),\n",
              " ('special report on japanese tsunami emergency in pichilemu, chile',\n",
              "  {'cats': {'NEGATIVE': True, 'POSITIVE': False}})]"
            ]
          },
          "metadata": {},
          "execution_count": 16
        }
      ]
    },
    {
      "cell_type": "code",
      "source": [
        "def evaluate(tokenizer, textcat, texts, cats):\n",
        "    docs = (tokenizer(text) for text in texts)\n",
        "    tp = 0.0  # True positives\n",
        "    fp = 1e-8  # False positives\n",
        "    fn = 1e-8  # False negatives\n",
        "    tn = 0.0  # True negatives\n",
        "    for i, doc in enumerate(textcat.pipe(docs)):\n",
        "        gold = cats[i]\n",
        "        for label, score in doc.cats.items():\n",
        "            if label not in gold:\n",
        "                continue\n",
        "            if label == \"NEGATIVE\":\n",
        "                continue\n",
        "            if score >= 0.5 and gold[label] >= 0.5:\n",
        "                tp += 1.0\n",
        "            elif score >= 0.5 and gold[label] < 0.5:\n",
        "                fp += 1.0\n",
        "            elif score < 0.5 and gold[label] < 0.5:\n",
        "                tn += 1\n",
        "            elif score < 0.5 and gold[label] >= 0.5:\n",
        "                fn += 1\n",
        "    precision = tp / (tp + fp)\n",
        "    recall = tp / (tp + fn)\n",
        "    if (precision + recall) == 0:\n",
        "        f_score = 0.0\n",
        "    else:\n",
        "        f_score = 2 * (precision * recall) / (precision + recall)\n",
        "    return {\"textcat_p\": precision, \"textcat_r\": recall, \"textcat_f\": f_score}\n"
      ],
      "metadata": {
        "id": "PC9Lum5EzHMY"
      },
      "execution_count": 17,
      "outputs": []
    },
    {
      "cell_type": "code",
      "source": [
        "n_iter=5\n",
        "\n",
        "other_pipes = [pipe for pipe in nlp.pipe_names if pipe != 'textcat']\n",
        "with nlp.disable_pipes(*other_pipes):  # only train textcat\n",
        "    optimizer = nlp.begin_training()\n",
        "\n",
        "    print(\"Training the model...\")\n",
        "    print('{:^5}\\t{:^5}\\t{:^5}\\t{:^5}'.format('LOSS', 'P', 'R', 'F'))\n",
        "\n",
        "    # Performing training\n",
        "    for i in range(n_iter):\n",
        "        losses = {}\n",
        "        batches = minibatch(train_data, size=compounding(4., 32., 1.001))\n",
        "        for batch in batches:\n",
        "            texts, annotations = zip(*batch)\n",
        "            nlp.update(texts, annotations, sgd=optimizer, drop=0.2,\n",
        "                       losses=losses)\n",
        "\n",
        "      # Calling the evaluate() function and printing the scores\n",
        "        with textcat.model.use_params(optimizer.averages):\n",
        "            scores = evaluate(nlp.tokenizer, textcat, dev_texts, dev_cats)\n",
        "        print('{0:.3f}\\t{1:.3f}\\t{2:.3f}\\t{3:.3f}'  \n",
        "              .format(losses['textcat'], scores['textcat_p'],\n",
        "                      scores['textcat_r'], scores['textcat_f']))"
      ],
      "metadata": {
        "colab": {
          "base_uri": "https://localhost:8080/"
        },
        "id": "j0_9UecQzQ5Q",
        "outputId": "f067e3d2-bea6-471f-ab99-99a2097640d3"
      },
      "execution_count": 18,
      "outputs": [
        {
          "output_type": "stream",
          "name": "stdout",
          "text": [
            "Training the model...\n",
            "LOSS \t  P  \t  R  \t  F  \n",
            "7.341\t0.971\t0.968\t0.969\n",
            "1.637\t0.978\t0.976\t0.977\n",
            "0.706\t0.979\t0.975\t0.977\n",
            "0.417\t0.979\t0.977\t0.978\n",
            "0.239\t0.978\t0.975\t0.976\n"
          ]
        }
      ]
    }
  ]
}