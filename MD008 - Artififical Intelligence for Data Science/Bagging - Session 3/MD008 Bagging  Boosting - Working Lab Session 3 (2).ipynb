{
 "cells": [
  {
   "cell_type": "markdown",
   "id": "0294b40b",
   "metadata": {},
   "source": [
    "# Predicción del precio de alquiler de la vivienda en la ciudad de Barcelona\n",
    "\n",
    "Descripción del dataset:\n",
    "\n",
    "|Columna|Descripción|Key|\n",
    "|--|--|--|\n",
    "|id|Identificador numérico de la vivienda||\n",
    "|price|Precio de mercado de la vivienda||\n",
    "|currency|Moneda|Euros / Mes|\n",
    "|latitude|Latitud de las coordenadas geográficas de la vivienda||\n",
    "|longitude|Longitud de las coordenadas geográficas de la vivienda||\n",
    "|sq_meters|Metros cuadrados de la vivienda||\n",
    "|sq_meters_built|Metros cuadrados construídos de la vivienda||\n",
    "|rooms|Número de habitaciones||\n",
    "|bathrooms|Número de baños||\n",
    "|balcony|Indicador si la vivienda tiene balcón|1, 0|\n",
    "|terrace|Indicador si la vivienda tiene terraza|1, 0|\n",
    "|exterior|Indicador si la vivienda tiene una orientación exterior o interior en el edificio|1, 0|\n",
    "|orientation|Orientación principal de la vivienda|norte, sur, este, oeste|\n",
    "|floor|Piso de la vivienda||\n",
    "|rooftop|Indicador si la vivienda es un ático|1, 0|\n",
    "|elevator|Indicador si el edificio de la vivienda tiene ascensor|1, 0|\n",
    "|doorman|Indicador si el edificio tiene portero|1,0|\n",
    "|pool|Indicador si la vivienda cuenta con piscina o derecho de uso de piscina|1,0|\n",
    "|ac|Indicador si tiene aire acondicionado|1,0|\n",
    "|heating|Indicador si tiene calefacción|bomba, electric, gas, individual|\n",
    "|year_built|Año de construcción||\n",
    "|quality|Indicador de calidad de la vivienda|2 - En buen estado|\n",
    "|city|Ciudad de la vivienda||\n",
    "|neighborhood|Barrio de la vivienda||\n",
    "|dist_city_center|Distancia en kilómetros al centro de la ciudad||\n",
    "|furniture|Indicador si la vivienda cuenta con mobiliario|1: Sin Equipar; 2: Cocina Equipada; 3: Amueblado|\n",
    "|garage|Indicador si la vivienda tiene garage|1, 0|\n",
    "|property_type|Tipo de vivienda||\n",
    "|garden|Indicador si la vivienda cuenta con jardín|1,0|\n",
    "|closest_station|Nombre de la estación de metro más cercana||\n",
    "|dist_closest_station|Distancia en kilómetros a la estación de metro más cercana||\n",
    "|created_at|Fecha de creación del anuncio||\n",
    "|last_seen|Fecha última en la que el anuncio fue publicado en la web||\n",
    "\n"
   ]
  },
  {
   "cell_type": "markdown",
   "id": "3960b5a8",
   "metadata": {},
   "source": [
    "#### Carga de librerías y dataset"
   ]
  },
  {
   "cell_type": "code",
   "execution_count": null,
   "id": "692ed37d",
   "metadata": {},
   "outputs": [],
   "source": [
    "# Library load\n",
    "import os\n",
    "import pandas as pd\n",
    "import numpy as np\n",
    "\n",
    "# Plotting library\n",
    "import seaborn as sn\n",
    "import matplotlib.pyplot as plt\n",
    "\n",
    "# Funciones para hacer cálculo estadístico\n",
    "import statsmodels.api as sm\n",
    "from statsmodels.formula.api import ols\n",
    "\n",
    "# sklearn packages\n",
    "from sklearn.preprocessing import StandardScaler # Análisis de PCA\n",
    "from sklearn import metrics # Calcula métricas para un modelo\n",
    "from sklearn import tree # Cálculo de decision trees\n",
    "from sklearn.tree import DecisionTreeClassifier # Generación de modelos de decision tree\n",
    "from sklearn.ensemble import BaggingClassifier # Generación de modelos de bagging\n",
    "from sklearn.ensemble import RandomForestClassifier # Generación de modelo de random forest\n",
    "from sklearn.model_selection import train_test_split # Hace split entre training y testing\n",
    "from sklearn.model_selection import cross_validate # trains model with cross validation\n",
    "from sklearn.model_selection import GridSearchCV # Optimización de hiperparámetros para un modelo\n",
    "\n",
    "\n",
    "# Models\n",
    "# import lightgbm as lgb\n",
    "import catboost as cat\n",
    "# import xgboost as xgb\n",
    "\n",
    "# Confusion matrix viz\n",
    "from mlxtend.evaluate import confusion_matrix # Calcula la matriz de confusion \n",
    "from mlxtend.plotting import plot_confusion_matrix #plot de la matriz de confusión\n",
    "from mlxtend.classifier import StackingClassifier #stacking classifier\n",
    "\n",
    "# Shap library\n",
    "import shap\n",
    "# print the JS visualization code to the notebook \n",
    "shap.initjs()\n",
    "\n",
    "# Ignoring warning messages\n",
    "import warnings\n",
    "warnings.filterwarnings('ignore') #ignora los errores en el notebook"
   ]
  },
  {
   "cell_type": "markdown",
   "id": "35696911",
   "metadata": {},
   "source": [
    "### Boosting\n",
    "\n",
    "En este punto buscamos aplicar los modelos de boosting más potentes, enfocándonos en CATBoost y aprender a optimizar los hiperparámetros para evitar el sobre-entrenamiento\n",
    "\n",
    "- Generaión de un dataset pool para el modelo de CATBoost: ¿Cómo podemos codificar las variables categóricas?\n",
    "- Optimización del modelo mediante la visualización de las curvas de aprendizaje: ¿Hay algún outlayer?, ¿Todos los modelos se comportan igual?\n",
    "\n",
    "**Objetivos de éste punto:**\n",
    "\n",
    "- Aprender a modelar los modelos de boosting\n",
    "- Entender el funcionamiento de CATBoost"
   ]
  },
  {
   "cell_type": "markdown",
   "id": "6de62efc",
   "metadata": {},
   "source": [
    "#### CATBoost"
   ]
  },
  {
   "cell_type": "code",
   "execution_count": null,
   "id": "3f55b6e9",
   "metadata": {},
   "outputs": [],
   "source": [
    "!pip install ipywidget\n",
    "import ipywidget"
   ]
  },
  {
   "cell_type": "code",
   "execution_count": null,
   "id": "92c9e8ac",
   "metadata": {},
   "outputs": [],
   "source": [
    "# create a train/test split with catboost\n",
    "d_train_cat = cat.Pool(X_train, y_train)\n",
    "d_test_cat = cat.Pool(X_test, y_test)"
   ]
  },
  {
   "cell_type": "markdown",
   "id": "729a06ef",
   "metadata": {},
   "source": [
    "Grid Search: https://catboost.ai/en/docs/concepts/python-reference_catboost_grid_search"
   ]
  },
  {
   "cell_type": "code",
   "execution_count": null,
   "id": "e268bc31",
   "metadata": {},
   "outputs": [],
   "source": [
    "model = cat.CatBoostRegressor()\n",
    "\n",
    "grid = {'learning_rate': [0.05, 0.025, 0.015, 0.01],\n",
    "        'depth': [8, 10, 12]}\n",
    "\n",
    "grid_search_result = model.grid_search(grid, \n",
    "                                       X_train, \n",
    "                                       y_train, \n",
    "                                       plot=True)"
   ]
  },
  {
   "cell_type": "markdown",
   "id": "bf08e70f",
   "metadata": {},
   "source": [
    "Cross validation: https://catboost.ai/en/docs/concepts/python-reference_cv"
   ]
  },
  {
   "cell_type": "code",
   "execution_count": null,
   "id": "86c493b0",
   "metadata": {},
   "outputs": [],
   "source": [
    "# Model cross validation\n",
    "params = {\"iterations\": n\n",
    "          , \"depth\": n\n",
    "          , \"loss_function\": \"RMSE\"\n",
    "          , \"learning_rate\": n\n",
    "          , \"verbose\": False}\n",
    "\n",
    "scores = cat.cv(d_train_cat\n",
    "            , params\n",
    "            , fold_count = 10\n",
    "            , plot = \"True\")"
   ]
  },
  {
   "cell_type": "code",
   "execution_count": null,
   "id": "938cfefa",
   "metadata": {},
   "outputs": [],
   "source": [
    "model_cat = cat.CatBoostRegressor(iterations = n\n",
    "                                   , learning_rate = n\n",
    "                                   , loss_function = \"RMSE\"\n",
    "                                   , random_seed = 2\n",
    "                                   , depth = n)\n",
    "\n",
    "model_cat.fit(d_train_cat\n",
    "                , eval_set = d_test_cat\n",
    "                , verbose_eval=150\n",
    "                , early_stopping_rounds=50\n",
    "                , plot = True)"
   ]
  },
  {
   "cell_type": "code",
   "execution_count": null,
   "id": "96e23952",
   "metadata": {},
   "outputs": [],
   "source": [
    "predictions = model_cat.predict(X_test)\n",
    "metrics.r2_score(y_test, predictions)"
   ]
  },
  {
   "cell_type": "markdown",
   "id": "674db2a4",
   "metadata": {},
   "source": [
    "### Model Stacking & Feature Engineering\n",
    "\n",
    "En éste punto veremos cómo podemos hacer un modelo de modelos que nos ayude a mejorar las predicciones.\n",
    "\n",
    "- Generación de un modelo de stacking: ¿Qué modelos podemos utilizar para nuestro modelo?\n",
    "- Feature Engineering del model stacking: ¿Qué modelos debemos utilizar para nuestro meta-learner?\n",
    "\n",
    "**Objetivos de éste punto:**\n",
    "\n",
    "- Generar y entrenar múltiples modelos de datos y comparar los resultados obtenidos "
   ]
  },
  {
   "cell_type": "code",
   "execution_count": null,
   "id": "369ce1f8",
   "metadata": {},
   "outputs": [],
   "source": [
    "# m1, m2, m3 son modelos generados previamente\n",
    "# mf es el modelo final que queremos aplicar\n",
    "sclf = StackingClassifier(classifiers=[m1, m2, m3], \n",
    "                          meta_classifier=gbt)\n",
    "\n",
    "sclf.fit(X_train, y_train)"
   ]
  },
  {
   "cell_type": "code",
   "execution_count": null,
   "id": "3f803b42",
   "metadata": {},
   "outputs": [],
   "source": [
    "predictions = sclf.predict(X_test)\n",
    "metrics.r2_score(y_test, predictions)"
   ]
  }
 ],
 "metadata": {
  "kernelspec": {
   "display_name": "Python 3",
   "language": "python",
   "name": "python3"
  },
  "language_info": {
   "codemirror_mode": {
    "name": "ipython",
    "version": 3
   },
   "file_extension": ".py",
   "mimetype": "text/x-python",
   "name": "python",
   "nbconvert_exporter": "python",
   "pygments_lexer": "ipython3",
   "version": "3.8.8"
  }
 },
 "nbformat": 4,
 "nbformat_minor": 5
}
