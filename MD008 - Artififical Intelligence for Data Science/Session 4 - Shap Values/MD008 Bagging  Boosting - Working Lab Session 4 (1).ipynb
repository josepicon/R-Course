{
 "cells": [
  {
   "cell_type": "markdown",
   "id": "0294b40b",
   "metadata": {},
   "source": [
    "# Predicción del precio de alquiler de la vivienda en la ciudad de Barcelona\n",
    "\n",
    "Descripción del dataset:\n",
    "\n",
    "|Columna|Descripción|Key|\n",
    "|--|--|--|\n",
    "|id|Identificador numérico de la vivienda||\n",
    "|price|Precio de mercado de la vivienda||\n",
    "|currency|Moneda|Euros / Mes|\n",
    "|latitude|Latitud de las coordenadas geográficas de la vivienda||\n",
    "|longitude|Longitud de las coordenadas geográficas de la vivienda||\n",
    "|sq_meters|Metros cuadrados de la vivienda||\n",
    "|sq_meters_built|Metros cuadrados construídos de la vivienda||\n",
    "|rooms|Número de habitaciones||\n",
    "|bathrooms|Número de baños||\n",
    "|balcony|Indicador si la vivienda tiene balcón|1, 0|\n",
    "|terrace|Indicador si la vivienda tiene terraza|1, 0|\n",
    "|exterior|Indicador si la vivienda tiene una orientación exterior o interior en el edificio|1, 0|\n",
    "|orientation|Orientación principal de la vivienda|norte, sur, este, oeste|\n",
    "|floor|Piso de la vivienda||\n",
    "|rooftop|Indicador si la vivienda es un ático|1, 0|\n",
    "|elevator|Indicador si el edificio de la vivienda tiene ascensor|1, 0|\n",
    "|doorman|Indicador si el edificio tiene portero|1,0|\n",
    "|pool|Indicador si la vivienda cuenta con piscina o derecho de uso de piscina|1,0|\n",
    "|ac|Indicador si tiene aire acondicionado|1,0|\n",
    "|heating|Indicador si tiene calefacción|bomba, electric, gas, individual|\n",
    "|year_built|Año de construcción||\n",
    "|quality|Indicador de calidad de la vivienda|2 - En buen estado|\n",
    "|city|Ciudad de la vivienda||\n",
    "|neighborhood|Barrio de la vivienda||\n",
    "|dist_city_center|Distancia en kilómetros al centro de la ciudad||\n",
    "|furniture|Indicador si la vivienda cuenta con mobiliario|1: Sin Equipar; 2: Cocina Equipada; 3: Amueblado|\n",
    "|garage|Indicador si la vivienda tiene garage|1, 0|\n",
    "|property_type|Tipo de vivienda||\n",
    "|garden|Indicador si la vivienda cuenta con jardín|1,0|\n",
    "|closest_station|Nombre de la estación de metro más cercana||\n",
    "|dist_closest_station|Distancia en kilómetros a la estación de metro más cercana||\n",
    "|created_at|Fecha de creación del anuncio||\n",
    "|last_seen|Fecha última en la que el anuncio fue publicado en la web||\n",
    "\n"
   ]
  },
  {
   "cell_type": "markdown",
   "id": "3960b5a8",
   "metadata": {},
   "source": [
    "#### Carga de librerías y dataset"
   ]
  },
  {
   "cell_type": "code",
   "execution_count": null,
   "id": "692ed37d",
   "metadata": {},
   "outputs": [],
   "source": [
    "# Library load\n",
    "import os\n",
    "import pandas as pd\n",
    "import numpy as np\n",
    "\n",
    "# Plotting library\n",
    "import seaborn as sn\n",
    "import matplotlib.pyplot as plt\n",
    "\n",
    "# Funciones para hacer cálculo estadístico\n",
    "import statsmodels.api as sm\n",
    "from statsmodels.formula.api import ols\n",
    "\n",
    "# sklearn packages\n",
    "from sklearn.preprocessing import StandardScaler # Análisis de PCA\n",
    "from sklearn import metrics # Calcula métricas para un modelo\n",
    "from sklearn import tree # Cálculo de decision trees\n",
    "from sklearn.tree import DecisionTreeClassifier # Generación de modelos de decision tree\n",
    "from sklearn.ensemble import BaggingClassifier # Generación de modelos de bagging\n",
    "from sklearn.ensemble import RandomForestClassifier # Generación de modelo de random forest\n",
    "from sklearn.model_selection import train_test_split # Hace split entre training y testing\n",
    "from sklearn.model_selection import cross_validate # trains model with cross validation\n",
    "from sklearn.model_selection import GridSearchCV # Optimización de hiperparámetros para un modelo\n",
    "\n",
    "\n",
    "# Models\n",
    "# import lightgbm as lgb\n",
    "import catboost as cat\n",
    "# import xgboost as xgb\n",
    "\n",
    "# Confusion matrix viz\n",
    "from mlxtend.evaluate import confusion_matrix # Calcula la matriz de confusion \n",
    "from mlxtend.plotting import plot_confusion_matrix #plot de la matriz de confusión\n",
    "from mlxtend.classifier import StackingClassifier #stacking classifier\n",
    "\n",
    "# Shap library\n",
    "import shap\n",
    "# print the JS visualization code to the notebook \n",
    "shap.initjs()\n",
    "\n",
    "# Ignoring warning messages\n",
    "import warnings\n",
    "warnings.filterwarnings('ignore') #ignora los errores en el notebook"
   ]
  },
  {
   "cell_type": "markdown",
   "id": "35696911",
   "metadata": {},
   "source": [
    "### Shap Values\n",
    "En este punto buscamos entender los modelos que hemos generado mediante el uso de los Shap values, los cuáles nos ayudaran a entender por qué nuestro modelo se comporta de esa forma y entender predicciones individuales\n",
    "\n",
    "**Objetivos de éste punto:**\n",
    "\n",
    "Entender y aplicar los shap values sobre el modelo de CATBoost que hemos constuido"
   ]
  },
  {
   "cell_type": "code",
   "execution_count": null,
   "id": "3f55b6e9",
   "metadata": {},
   "outputs": [],
   "source": [
    "explainer_cat = shap.TreeExplainer(model_cat)\n",
    "shap_values_cat = explainer_cat.shap_values(X_train)"
   ]
  },
  {
   "cell_type": "code",
   "execution_count": null,
   "id": "6d463ea3",
   "metadata": {},
   "outputs": [],
   "source": [
    "print(\"Attributes\")\n",
    "print(\"\")\n",
    "print(X_train.iloc[0,:])\n",
    "print(\"\")\n",
    "print(\"Price\")\n",
    "print(\"\")\n",
    "print(y_train.iloc[0,0])"
   ]
  },
  {
   "cell_type": "code",
   "execution_count": null,
   "id": "d7d76510",
   "metadata": {},
   "outputs": [],
   "source": [
    "print(\"CATBoost Shap visualization for instance 0\")\n",
    "shap.force_plot(explainer_cat.expected_value, shap_values_cat[0,:], X_train.iloc[0,:])"
   ]
  },
  {
   "cell_type": "code",
   "execution_count": null,
   "id": "8ffdf339",
   "metadata": {},
   "outputs": [],
   "source": [
    "shap.force_plot(explainer_cat.expected_value, shap_values_cat[:1000,:], X_train.iloc[:1000,:])"
   ]
  },
  {
   "cell_type": "code",
   "execution_count": null,
   "id": "b32b0428",
   "metadata": {},
   "outputs": [],
   "source": [
    "shap.summary_plot(shap_values_cat, X_train)"
   ]
  },
  {
   "cell_type": "code",
   "execution_count": null,
   "id": "799891b8",
   "metadata": {},
   "outputs": [],
   "source": [
    "top_inds = np.argsort(-np.sum(np.abs(shap_values_cat), 0))\n",
    "\n",
    "for i in range(0,len(top_inds)):\n",
    "    shap.dependence_plot(top_inds[i], shap_values_cat, X_train)"
   ]
  }
 ],
 "metadata": {
  "kernelspec": {
   "display_name": "Python 3",
   "language": "python",
   "name": "python3"
  },
  "language_info": {
   "codemirror_mode": {
    "name": "ipython",
    "version": 3
   },
   "file_extension": ".py",
   "mimetype": "text/x-python",
   "name": "python",
   "nbconvert_exporter": "python",
   "pygments_lexer": "ipython3",
   "version": "3.8.8"
  }
 },
 "nbformat": 4,
 "nbformat_minor": 5
}
