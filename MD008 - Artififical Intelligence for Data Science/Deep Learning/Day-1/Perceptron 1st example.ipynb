{
 "cells": [
  {
   "cell_type": "markdown",
   "metadata": {
    "id": "E9_ucWu-AirD"
   },
   "source": [
    "# Close-to perceptron example: 1 to 1\n",
    "This time, a 1 to 1 close to **perceptron** exercise will be explained and defined step by step. <br><br>\n",
    "\n",
    "The exercise is fairly simple: conversion between **centimeters** and **inches**. We already know this conversion:\n",
    "$$ 1 [cm] = 0.393701 [in]$$ \n",
    "<br>\n",
    "So if we want to convert a measure ( 5 cm for example) we just have to multiply it by the coefficient:\n",
    "$$ 5[cm]*0.393701 =  1.9685 [in]$$\n",
    "<br>\n",
    "\n",
    "This is possible just because we already know the **conversion factor** but what happens if we don't know it? A single perceptron is able to find this conversion just by learning from existing examples."
   ]
  },
  {
   "cell_type": "code",
   "execution_count": 1,
   "metadata": {
    "id": "OejlQ0zlAFhj"
   },
   "outputs": [],
   "source": [
    "# Importing packages: tensorflow for the perceptron + arrays, matplotlib for visualizations\n",
    "\n",
    "import numpy as np\n",
    "import matplotlib.pyplot as plt\n",
    "import tensorflow as tf"
   ]
  },
  {
   "cell_type": "code",
   "execution_count": 2,
   "metadata": {
    "colab": {
     "base_uri": "https://localhost:8080/",
     "height": 295
    },
    "executionInfo": {
     "elapsed": 302,
     "status": "ok",
     "timestamp": 1646473287238,
     "user": {
      "displayName": "Sergi Bernet",
      "photoUrl": "https://lh3.googleusercontent.com/a/default-user=s64",
      "userId": "07027427470377624554"
     },
     "user_tz": -60
    },
    "id": "cX-gLwziHnC1",
    "outputId": "e30ebb59-ff99-47f9-f48e-2be818c50ed9"
   },
   "outputs": [
    {
     "data": {
      "image/png": "[encoded data removed]",
      "text/plain": [
       "<Figure size 432x288 with 1 Axes>"
      ]
     },
     "metadata": {
      "needs_background": "light"
     },
     "output_type": "display_data"
    }
   ],
   "source": [
    "# Conversion examples: Perceptron will learn\n",
    "cm = np.array([1, 5, 8, 15, 25, 50], dtype=float)\n",
    "inches = np.array([0.393701, 1.9685, 3.14961, 5.90551, 9.84252, 19.685], dtype=float)\n",
    "\n",
    "plt.scatter(cm, inches)\n",
    "plt.title('Conversion samples')\n",
    "plt.xlabel('cm')\n",
    "plt.ylabel('inches')\n",
    "plt.show()"
   ]
  },
  {
   "cell_type": "code",
   "execution_count": null,
   "metadata": {
    "id": "LrAtsozsIr6U"
   },
   "outputs": [],
   "source": [
    "# Create the Perceptron defining how many neurons are and the input shape of the samples we're giving\n",
    "perceptron = tf.keras.layers.Dense(units='____', input_shape=['____'])\n",
    "\n",
    "# Defining this layer (perceptron) as a model to learn + evaluate\n",
    "model = tf.keras.Sequential([perceptron])\n",
    "\n",
    "# Once model is defined, necessary to compile before using it defining the optimizer (how will learn) defining learning rate and the loss\n",
    "model.compile(\n",
    "    optimizer=tf.keras.optimizers.Adam('____'), # SGD, Adam, Adadelta... | Predefined optimizers --> [https://keras.io/api/optimizers/]\n",
    "    loss='' # mean_absolute_error, mean_absolute_percentage_error | All predefined --> [https://keras.io/api/losses/regression_losses/#meansquarederror-class]\n",
    ")\n",
    "\n",
    "# Start the train giving cm (x), inches (y), training loops (epochs) and training evolution visualization (verbose)\n",
    "history = model.fit(cm, inches, epochs='____', verbose=0)"
   ]
  },
  {
   "cell_type": "markdown",
   "metadata": {
    "id": "lfebTbOuMKUw"
   },
   "source": [
    "Training is now finished!<br><br>\n",
    "\n",
    "Now is time to evaluate results. Below we'll have a look to:\n",
    "- Prediction comparison *extrapoled*.\n",
    "- Final weight value.\n"
   ]
  },
  {
   "cell_type": "code",
   "execution_count": null,
   "metadata": {
    "colab": {
     "base_uri": "https://localhost:8080/"
    },
    "executionInfo": {
     "elapsed": 304,
     "status": "ok",
     "timestamp": 1646473294241,
     "user": {
      "displayName": "Sergi Bernet",
      "photoUrl": "https://lh3.googleusercontent.com/a/default-user=s64",
      "userId": "07027427470377624554"
     },
     "user_tz": -60
    },
    "id": "1-qWu2n7JlxN",
    "outputId": "87f4819b-eb90-46cd-e4e5-1db897111773"
   },
   "outputs": [
    {
     "name": "stdout",
     "output_type": "stream",
     "text": [
      "Model prediction for 60 cm: 23.622005\n",
      "Direct conversion value: 23.622060\n",
      "Connection weight: 0.393700\n",
      "Connection bias: 0.000006\n"
     ]
    }
   ],
   "source": [
    "print('Model prediction for 60 cm: %f' %model.predict([60]))\n",
    "print('Direct conversion value: %f' %(60*0.393701))\n",
    "print('Connection weight: %f' %perceptron.get_weights()[0])\n",
    "print('Connection bias: %f' %perceptron.get_weights()[1])"
   ]
  }
 ],
 "metadata": {
  "colab": {
   "authorship_tag": "ABX9TyOsCvOJF6vrDKX9y5iqTDgn",
   "name": "Perceptron 1st example.ipynb",
   "provenance": []
  },
  "kernelspec": {
   "display_name": "Python 3.8.12 64-bit ('base': conda)",
   "language": "python",
   "name": "python3812jvsc74a57bd0963d73e4aa0d72f8548eb216a375e08c1d2cba5db7daef5fd8a2f55c68b30434"
  },
  "language_info": {
   "codemirror_mode": {
    "name": "ipython",
    "version": 3
   },
   "file_extension": ".py",
   "mimetype": "text/x-python",
   "name": "python",
   "nbconvert_exporter": "python",
   "pygments_lexer": "ipython3",
   "version": "3.9.7"
  }
 },
 "nbformat": 4,
 "nbformat_minor": 1
}
