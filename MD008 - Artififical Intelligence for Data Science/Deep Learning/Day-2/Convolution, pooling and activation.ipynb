{
 "cells": [
  {
   "cell_type": "code",
   "execution_count": 1,
   "metadata": {
    "colab": {
     "base_uri": "https://localhost:8080/"
    },
    "executionInfo": {
     "elapsed": 3497,
     "status": "ok",
     "timestamp": 1646035422877,
     "user": {
      "displayName": "Sergi Bernet",
      "photoUrl": "https://lh3.googleusercontent.com/a/default-user=s64",
      "userId": "07027427470377624554"
     },
     "user_tz": -60
    },
    "id": "lsv1DZeiAy8Y",
    "outputId": "0891cb9f-5218-4ec4-f1a3-e66bbdb721fc"
   },
   "outputs": [
    {
     "name": "stdout",
     "output_type": "stream",
     "text": [
      "Downloading data from https://storage.googleapis.com/tensorflow/tf-keras-datasets/mnist.npz\n",
      "11493376/11490434 [==============================] - 0s 0us/step\n",
      "11501568/11490434 [==============================] - 0s 0us/step\n"
     ]
    }
   ],
   "source": [
    "# Packages for convolutions\n",
    "import numpy as np\n",
    "import tensorflow as tf\n",
    "import matplotlib.pyplot as plt\n",
    "\n",
    "from tensorflow.keras import layers, models\n",
    "\n",
    "from tensorflow.keras.datasets import mnist\n",
    "# load dataset\n",
    "(trainX, trainy), (testX, testy) = mnist.load_data()"
   ]
  },
  {
   "cell_type": "code",
   "execution_count": 2,
   "metadata": {
    "colab": {
     "base_uri": "https://localhost:8080/",
     "height": 265
    },
    "executionInfo": {
     "elapsed": 409,
     "status": "ok",
     "timestamp": 1646035423281,
     "user": {
      "displayName": "Sergi Bernet",
      "photoUrl": "https://lh3.googleusercontent.com/a/default-user=s64",
      "userId": "07027427470377624554"
     },
     "user_tz": -60
    },
    "id": "P54keYRmgDG2",
    "outputId": "5f294d73-77a1-4b7a-f1ec-a9ed922c4508"
   },
   "outputs": [
    {
     "data": {
      "image/png": "[encoded data removed]",
      "text/plain": [
       "<Figure size 432x288 with 1 Axes>"
      ]
     },
     "metadata": {
      "needs_background": "light"
     },
     "output_type": "display_data"
    }
   ],
   "source": [
    "# Display random sample from our dataset\n",
    "sample = trainX[np.random.randint(10000)]\n",
    "\n",
    "plt.imshow(sample, cmap = 'gray_r')\n",
    "plt.show()"
   ]
  },
  {
   "cell_type": "markdown",
   "metadata": {
    "id": "pvhLj5qgf2b-"
   },
   "source": [
    "### Pooling\n",
    "Independent usage of **pooling** technique."
   ]
  },
  {
   "cell_type": "code",
   "execution_count": 4,
   "metadata": {
    "colab": {
     "base_uri": "https://localhost:8080/",
     "height": 300
    },
    "executionInfo": {
     "elapsed": 514,
     "status": "ok",
     "timestamp": 1646035490769,
     "user": {
      "displayName": "Sergi Bernet",
      "photoUrl": "https://lh3.googleusercontent.com/a/default-user=s64",
      "userId": "07027427470377624554"
     },
     "user_tz": -60
    },
    "id": "htvzKH99g-aE",
    "outputId": "e28eab25-72bd-4949-ff9f-4d600d5e6977"
   },
   "outputs": [
    {
     "name": "stdout",
     "output_type": "stream",
     "text": [
      "(1, 14, 14, 1)\n"
     ]
    },
    {
     "data": {
      "text/plain": [
       "<matplotlib.image.AxesImage at 0x7f8e90f88150>"
      ]
     },
     "execution_count": 4,
     "metadata": {},
     "output_type": "execute_result"
    },
    {
     "data": {
      "image/png": "[encoded data removed]",
      "text/plain": [
       "<Figure size 432x288 with 1 Axes>"
      ]
     },
     "metadata": {
      "needs_background": "light"
     },
     "output_type": "display_data"
    }
   ],
   "source": [
    "model_pool = models.Sequential()\n",
    "model_pool.add(layers.Input(shape = (28, 28, 1)))\n",
    "# Alternative for MaxPool\n",
    "# model_pool.add(layers.AveragePooling2D(2))\n",
    "model_pool.add(layers.MaxPool2D(2))\n",
    "\n",
    "sample_reshaped = np.reshape(sample, (1, 28, 28, 1))\n",
    "\n",
    "pooled_digit = model_pool(sample_reshaped)\n",
    "print(pooled_digit.shape)\n",
    "plt.imshow(pooled_digit[0,:,:,0], cmap = 'gray_r')"
   ]
  },
  {
   "cell_type": "markdown",
   "metadata": {
    "id": "7XZNknxVf4Ld"
   },
   "source": [
    "### Activation function"
   ]
  },
  {
   "cell_type": "code",
   "execution_count": 5,
   "metadata": {
    "colab": {
     "base_uri": "https://localhost:8080/",
     "height": 282
    },
    "executionInfo": {
     "elapsed": 256,
     "status": "ok",
     "timestamp": 1646035655040,
     "user": {
      "displayName": "Sergi Bernet",
      "photoUrl": "https://lh3.googleusercontent.com/a/default-user=s64",
      "userId": "07027427470377624554"
     },
     "user_tz": -60
    },
    "id": "_w3yROsNrFvA",
    "outputId": "47bd6597-8b31-4c97-d0da-464cec98efa7"
   },
   "outputs": [
    {
     "data": {
      "text/plain": [
       "<matplotlib.image.AxesImage at 0x7f8e90e85510>"
      ]
     },
     "execution_count": 5,
     "metadata": {},
     "output_type": "execute_result"
    },
    {
     "data": {
      "image/png": "[encoded data removed]",
      "text/plain": [
       "<Figure size 432x288 with 1 Axes>"
      ]
     },
     "metadata": {
      "needs_background": "light"
     },
     "output_type": "display_data"
    }
   ],
   "source": [
    "model_relu = models.Sequential()\n",
    "model_relu.add(layers.Input(shape = (28, 28, 1)))\n",
    "\n",
    "# model_relu.add(layers.MaxPool2D(2))\n",
    "model_relu.add(layers.Activation(tf.keras.activations.relu))\n",
    "\n",
    "out = model_relu(sample_reshaped)\n",
    "plt.imshow(out[0,:,:,0], cmap = 'gray_r')"
   ]
  },
  {
   "cell_type": "markdown",
   "metadata": {
    "id": "6nzDC8YRf6Zu"
   },
   "source": [
    "## All together\n"
   ]
  },
  {
   "cell_type": "markdown",
   "metadata": {
    "id": "o2Tjm0n6oCCJ"
   },
   "source": [
    "### Digit convolution example"
   ]
  },
  {
   "cell_type": "code",
   "execution_count": 13,
   "metadata": {
    "colab": {
     "base_uri": "https://localhost:8080/",
     "height": 282
    },
    "executionInfo": {
     "elapsed": 267,
     "status": "ok",
     "timestamp": 1646035809371,
     "user": {
      "displayName": "Sergi Bernet",
      "photoUrl": "https://lh3.googleusercontent.com/a/default-user=s64",
      "userId": "07027427470377624554"
     },
     "user_tz": -60
    },
    "id": "B-Ae8GIFo8XJ",
    "outputId": "cc08d249-25a7-4490-f65b-3d9b122726db"
   },
   "outputs": [
    {
     "data": {
      "text/plain": [
       "<matplotlib.image.AxesImage at 0x7f8e9029be50>"
      ]
     },
     "execution_count": 13,
     "metadata": {},
     "output_type": "execute_result"
    },
    {
     "data": {
      "image/png": "[encoded data removed]",
      "text/plain": [
       "<Figure size 432x288 with 1 Axes>"
      ]
     },
     "metadata": {
      "needs_background": "light"
     },
     "output_type": "display_data"
    }
   ],
   "source": [
    "# Building our model for convolute\n",
    "model_bw = models.Sequential()\n",
    "model_bw.add(layers.Conv2D(1, 3, activation='relu', input_shape=(28, 28, 1)))\n",
    "\n",
    "# Adding another layer at the output\n",
    "#model_bw.add(layers.Conv2D(5, 3, activation='relu', input_shape=(28, 28, 1)))\n",
    "#model_bw.add(layers.Conv2D(1, 3, activation='sigmoid'))\n",
    "model_bw.add(layers.MaxPool2D(2))\n",
    "\n",
    "\n",
    "# Apply the convolution to the sample\n",
    "conv = model_bw(np.reshape(sample, (1, 28, 28, 1)))\n",
    "\n",
    "# Visualize results\n",
    "plt.imshow(conv[0,:,:,0], cmap = 'gray_r')"
   ]
  }
 ],
 "metadata": {
  "colab": {
   "authorship_tag": "ABX9TyNxBKBHEvgH5yiy7aIUOF2B",
   "name": "Convolution, pooling and activation.ipynb",
   "provenance": []
  },
  "kernelspec": {
   "display_name": "Python 3 (ipykernel)",
   "language": "python",
   "name": "python3"
  },
  "language_info": {
   "codemirror_mode": {
    "name": "ipython",
    "version": 3
   },
   "file_extension": ".py",
   "mimetype": "text/x-python",
   "name": "python",
   "nbconvert_exporter": "python",
   "pygments_lexer": "ipython3",
   "version": "3.7.11"
  }
 },
 "nbformat": 4,
 "nbformat_minor": 1
}
