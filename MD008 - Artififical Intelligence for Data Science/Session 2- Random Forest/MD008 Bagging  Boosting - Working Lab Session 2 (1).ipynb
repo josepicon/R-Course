{
 "cells": [
  {
   "cell_type": "markdown",
   "id": "0294b40b",
   "metadata": {},
   "source": [
    "# Predicción del precio de alquiler de la vivienda en la ciudad de Barcelona\n",
    "\n",
    "Descripción del dataset:\n",
    "\n",
    "|Columna|Descripción|Key|\n",
    "|--|--|--|\n",
    "|id|Identificador numérico de la vivienda||\n",
    "|price|Precio de mercado de la vivienda||\n",
    "|currency|Moneda|Euros / Mes|\n",
    "|latitude|Latitud de las coordenadas geográficas de la vivienda||\n",
    "|longitude|Longitud de las coordenadas geográficas de la vivienda||\n",
    "|sq_meters|Metros cuadrados de la vivienda||\n",
    "|sq_meters_built|Metros cuadrados construídos de la vivienda||\n",
    "|rooms|Número de habitaciones||\n",
    "|bathrooms|Número de baños||\n",
    "|balcony|Indicador si la vivienda tiene balcón|1, 0|\n",
    "|terrace|Indicador si la vivienda tiene terraza|1, 0|\n",
    "|exterior|Indicador si la vivienda tiene una orientación exterior o interior en el edificio|1, 0|\n",
    "|orientation|Orientación principal de la vivienda|norte, sur, este, oeste|\n",
    "|floor|Piso de la vivienda||\n",
    "|rooftop|Indicador si la vivienda es un ático|1, 0|\n",
    "|elevator|Indicador si el edificio de la vivienda tiene ascensor|1, 0|\n",
    "|doorman|Indicador si el edificio tiene portero|1,0|\n",
    "|pool|Indicador si la vivienda cuenta con piscina o derecho de uso de piscina|1,0|\n",
    "|ac|Indicador si tiene aire acondicionado|1,0|\n",
    "|heating|Indicador si tiene calefacción|bomba, electric, gas, individual|\n",
    "|year_built|Año de construcción||\n",
    "|quality|Indicador de calidad de la vivienda|2 - En buen estado|\n",
    "|city|Ciudad de la vivienda||\n",
    "|neighborhood|Barrio de la vivienda||\n",
    "|dist_city_center|Distancia en kilómetros al centro de la ciudad||\n",
    "|furniture|Indicador si la vivienda cuenta con mobiliario|1: Sin Equipar; 2: Cocina Equipada; 3: Amueblado|\n",
    "|garage|Indicador si la vivienda tiene garage|1, 0|\n",
    "|property_type|Tipo de vivienda||\n",
    "|garden|Indicador si la vivienda cuenta con jardín|1,0|\n",
    "|closest_station|Nombre de la estación de metro más cercana||\n",
    "|dist_closest_station|Distancia en kilómetros a la estación de metro más cercana||\n",
    "|created_at|Fecha de creación del anuncio||\n",
    "|last_seen|Fecha última en la que el anuncio fue publicado en la web||\n",
    "\n"
   ]
  },
  {
   "cell_type": "markdown",
   "id": "8c8e4f57",
   "metadata": {},
   "source": [
    "### One-hot encoding\n",
    "\n",
    "![alt text](https://miro.medium.com/max/1400/1*Ac4z1rWWuU0TzxJRUM62WA.jpeg?auto=webp&quality=85,70\"Title\")\n",
    "\n",
    "En este punto buscamos manipular las variables categóricos texto en factores binarios.\n",
    "\n",
    "- Generación de un nuevo dataset de training y validación (Con y sin one-hot encoding): ¿Cómo podemos preparar el código para generar modelos distintos?\n",
    "\n",
    "Objetivos de éste punto:\n",
    "\n",
    "- Transformar las variables categóricas en factores binarios \n",
    "- Aplicar los valores obenidos en el modelo de bagging del punto anterior"
   ]
  },
  {
   "cell_type": "markdown",
   "id": "3960b5a8",
   "metadata": {},
   "source": [
    "#### Carga de librerías y dataset"
   ]
  },
  {
   "cell_type": "code",
   "execution_count": null,
   "id": "692ed37d",
   "metadata": {},
   "outputs": [],
   "source": [
    "# Library load\n",
    "import os\n",
    "import pandas as pd\n",
    "import numpy as np\n",
    "\n",
    "# Plotting library\n",
    "import seaborn as sn\n",
    "import matplotlib.pyplot as plt\n",
    "\n",
    "# Funciones para hacer cálculo estadístico\n",
    "import statsmodels.api as sm\n",
    "from statsmodels.formula.api import ols\n",
    "\n",
    "# sklearn packages\n",
    "from sklearn.preprocessing import StandardScaler # Análisis de PCA\n",
    "from sklearn import metrics # Calcula métricas para un modelo\n",
    "from sklearn import tree # Cálculo de decision trees\n",
    "from sklearn.tree import DecisionTreeClassifier # Generación de modelos de decision tree\n",
    "from sklearn.ensemble import BaggingClassifier # Generación de modelos de bagging\n",
    "from sklearn.ensemble import RandomForestClassifier # Generación de modelo de random forest\n",
    "from sklearn.model_selection import train_test_split # Hace split entre training y testing\n",
    "from sklearn.model_selection import cross_validate # trains model with cross validation\n",
    "from sklearn.model_selection import GridSearchCV # Optimización de hiperparámetros para un modelo\n",
    "from sklearn.preprocessing import OneHotEncoder # One Hot encoding de las variables categóricas\n",
    "\n",
    "# Confusion matrix viz\n",
    "from mlxtend.evaluate import confusion_matrix # Calcula la matriz de confusion \n",
    "from mlxtend.plotting import plot_confusion_matrix #plot de la matriz de confusión\n",
    "\n",
    "# Ignoring warning messages\n",
    "import warnings\n",
    "warnings.filterwarnings('ignore') #ignora los errores en el notebook"
   ]
  },
  {
   "cell_type": "code",
   "execution_count": null,
   "id": "47276ee4",
   "metadata": {},
   "outputs": [],
   "source": [
    "raw_data = pd.read_csv('input/processed_renting_Barcelona.csv', delimiter = ',')\n",
    "raw_data.head()"
   ]
  },
  {
   "cell_type": "code",
   "execution_count": null,
   "id": "62d00ddc",
   "metadata": {},
   "outputs": [],
   "source": [
    "X = raw_data.drop('price', axis= 1)\n",
    "Y = raw_data[['price']]"
   ]
  },
  {
   "cell_type": "code",
   "execution_count": null,
   "id": "fd15cd2a",
   "metadata": {},
   "outputs": [],
   "source": [
    "# select the categorical feature to do the one-hot encoding\n",
    "cat_feature = 'closest_station'\n",
    "# creating instance of one-hot-encoder\n",
    "enc = OneHotEncoder(handle_unknown='ignore')\n",
    "# passing bridge-types-cat column (label encoded values of bridge_types)\n",
    "enc_df = pd.DataFrame(enc.fit_transform(X[[cat_feature]]).toarray())\n",
    "# renames columns adding a prefix with the column name\n",
    "enc_df.columns = enc.categories_[0]\n",
    "enc_df = enc_df.add_prefix(cat_feature + '_')\n",
    "# merge with main df bridge_df on key values\n",
    "X = X.join(enc_df)\n",
    "X"
   ]
  },
  {
   "cell_type": "markdown",
   "id": "951dca62",
   "metadata": {},
   "source": [
    "### Modelo de Random Forest:\n",
    "\n",
    "En éste punto crearemos nuestro primer modelo de Random Forest. Para ello realizaremos los siguientes puntos:\n",
    "\n",
    "\n",
    "- Optimización de hiperparámetros mediante Cross Validation: ¿Qué hiperparámetros deberíamos utilizar para entrenar nuestro modelo?\n",
    "- Entrenamiento del modelo y análisis de los resultados: ¿Es bueno nuestro modelo?,  ¿Cómo se comparan todos los modelos obtenidos? (Bagging, Random Forest, Con y sin one-hot encoding) "
   ]
  },
  {
   "cell_type": "code",
   "execution_count": null,
   "id": "455e1a8a",
   "metadata": {},
   "outputs": [],
   "source": [
    "# we enumerate the values to try\n",
    "parameters = [{\"n_estimators\":[25,50,75,100,125,150,175,200] \"max_depth\":[2,3,4,5,6,7,9], \"min_samples_split\":[2,5,10]}]\n",
    "\n",
    "#instantiate the classifier\n",
    "rf_cv = RandomForestClassifier(a)\n",
    "\n",
    "# Grid search function\n",
    "grid_bag = GridSearchCV(cv = 10, estimator=rf_cv, param_grid=parameters, scoring=\"r2\")\n",
    "grid_bag.fit(X_train, y_train)\n",
    "grid_bag.best_params_"
   ]
  },
  {
   "cell_type": "code",
   "execution_count": null,
   "id": "bcd86cc4",
   "metadata": {},
   "outputs": [],
   "source": [
    "# Creamos el modelo con los hiperpametros seleccionados en el punto anterior\n",
    "rf = RandomForestClassifier(n_estimators = n, max_depth = m, min_samples_split = o)\n",
    "# Entrenamos el modelo con el dataset de entrenamiento mediante cross validation\n",
    "model = cross_validate(bag, X_train, y_train, cv = 10, scoring = \"r2\")\n",
    "for i, score in enumerate(model[\"test_score\"]):\n",
    "    print(f\"Accuracy for the fold no. {i} on the test set: {score}\")"
   ]
  },
  {
   "cell_type": "code",
   "execution_count": null,
   "id": "9b649ced",
   "metadata": {},
   "outputs": [],
   "source": [
    "fig1, ax1 = plt.subplots()\n",
    "ax1.set_title('R2 del modelo de Random Forest')\n",
    "ax1.boxplot(model[\"test_score\"])"
   ]
  },
  {
   "cell_type": "code",
   "execution_count": null,
   "id": "d5c65eaf",
   "metadata": {},
   "outputs": [],
   "source": [
    "rf.fit(X_train, y_train)\n",
    "y_pred = rf.predict(X_train)\n",
    "#error rate\n",
    "metrics.r2_score(y_train, y_pred)"
   ]
  },
  {
   "cell_type": "code",
   "execution_count": null,
   "id": "0548ecba",
   "metadata": {},
   "outputs": [],
   "source": [
    "y_pred = bag.predict(X_test)\n",
    "#error rate\n",
    "metrics.r2_score(y_test, y_pred)"
   ]
  }
 ],
 "metadata": {
  "kernelspec": {
   "display_name": "Python 3",
   "language": "python",
   "name": "python3"
  },
  "language_info": {
   "codemirror_mode": {
    "name": "ipython",
    "version": 3
   },
   "file_extension": ".py",
   "mimetype": "text/x-python",
   "name": "python",
   "nbconvert_exporter": "python",
   "pygments_lexer": "ipython3",
   "version": "3.8.8"
  }
 },
 "nbformat": 4,
 "nbformat_minor": 5
}
