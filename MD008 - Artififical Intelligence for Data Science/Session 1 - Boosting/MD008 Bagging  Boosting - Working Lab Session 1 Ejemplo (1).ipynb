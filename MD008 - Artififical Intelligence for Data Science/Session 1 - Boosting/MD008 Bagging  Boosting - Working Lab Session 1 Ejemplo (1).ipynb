{
 "cells": [
  {
   "cell_type": "markdown",
   "id": "0294b40b",
   "metadata": {},
   "source": [
    "# Predicción del precio de alquiler de la vivienda en la ciudad de Barcelona\n",
    "\n",
    "Descripción del dataset:\n",
    "\n",
    "|Columna|Descripción|Key|\n",
    "|--|--|--|\n",
    "|id|Identificador numérico de la vivienda||\n",
    "|price|Precio de mercado de la vivienda||\n",
    "|currency|Moneda|Euros / Mes|\n",
    "|latitude|Latitud de las coordenadas geográficas de la vivienda||\n",
    "|longitude|Longitud de las coordenadas geográficas de la vivienda||\n",
    "|sq_meters|Metros cuadrados de la vivienda||\n",
    "|sq_meters_built|Metros cuadrados construídos de la vivienda||\n",
    "|rooms|Número de habitaciones||\n",
    "|bathrooms|Número de baños||\n",
    "|balcony|Indicador si la vivienda tiene balcón|1, 0|\n",
    "|terrace|Indicador si la vivienda tiene terraza|1, 0|\n",
    "|exterior|Indicador si la vivienda tiene una orientación exterior o interior en el edificio|1, 0|\n",
    "|orientation|Orientación principal de la vivienda|norte, sur, este, oeste|\n",
    "|floor|Piso de la vivienda||\n",
    "|rooftop|Indicador si la vivienda es un ático|1, 0|\n",
    "|elevator|Indicador si el edificio de la vivienda tiene ascensor|1, 0|\n",
    "|doorman|Indicador si el edificio tiene portero|1,0|\n",
    "|pool|Indicador si la vivienda cuenta con piscina o derecho de uso de piscina|1,0|\n",
    "|ac|Indicador si tiene aire acondicionado|1,0|\n",
    "|heating|Indicador si tiene calefacción|bomba, electric, gas, individual|\n",
    "|year_built|Año de construcción||\n",
    "|quality|Indicador de calidad de la vivienda|2 - En buen estado|\n",
    "|city|Ciudad de la vivienda||\n",
    "|neighborhood|Barrio de la vivienda||\n",
    "|dist_city_center|Distancia en kilómetros al centro de la ciudad||\n",
    "|furniture|Indicador si la vivienda cuenta con mobiliario|1: Sin Equipar; 2: Cocina Equipada; 3: Amueblado|\n",
    "|garage|Indicador si la vivienda tiene garage|1, 0|\n",
    "|property_type|Tipo de vivienda||\n",
    "|garden|Indicador si la vivienda cuenta con jardín|1,0|\n",
    "|closest_station|Nombre de la estación de metro más cercana||\n",
    "|dist_closest_station|Distancia en kilómetros a la estación de metro más cercana||\n",
    "|created_at|Fecha de creación del anuncio||\n",
    "|last_seen|Fecha última en la que el anuncio fue publicado en la web||\n",
    "\n"
   ]
  },
  {
   "cell_type": "markdown",
   "id": "8c8e4f57",
   "metadata": {},
   "source": [
    "### Exploratory Data Analysis\n",
    "\n",
    "En éste punto queremos entender qué datos tenemos disponibles. Para ello realizaremos los siguientes puntos:\n",
    "\n",
    "- Estadística descriptiva y calidad general de los datos: ¿Debemos hacer limpieza de los datos?, ¿Nos sirven todas las columnas?, ¿Nos sirven todas las instancias?, ¿Cómo debemos tratar los null values?\n",
    "- Visualizaciones y análisis que ayuden a entender la distribución de las variables continuas y categorías independientemente: ¿Qué distribuciones siguen las variables continuas?, ¿Qué proporción de instancias tenemos para las variables categóricas?\n",
    "- Visualizaciones y análisis que ayuden a entender la relación entre los atributos y la variable objetivo price: ¿Qué relación tienen las variables continuas con la variable objetivo price?, ¿Y las cariables categóricas?\n",
    "- Alteración y creación de nuevas variables: ¿Podemos generar nuevas variables que se adapten más a nuestro objetivo que las que tenemos actualmente?\n",
    "- Visualizaciones y análisis que ayuden a entender la posible correlación entre variables: ¿Cómo están relacionadas entre sí las variables interesantes para nuestro dominio?, ¿Debemos tener algún tipo de cuidado al respecto?\n",
    "\n",
    "**Objetivos de éste punto:**\n",
    "\n",
    "- Familiarizarnos con el dataset\n",
    "- Generar un dataframe limpio, con las variables útiles para entrenar los modelos\n",
    "- Entender qué posibles variables estén correlacionadas para evitar un sobreentrenamiento del modelo"
   ]
  },
  {
   "cell_type": "markdown",
   "id": "3960b5a8",
   "metadata": {},
   "source": [
    "#### Carga de librerías y dataset"
   ]
  },
  {
   "cell_type": "code",
   "execution_count": 1,
   "id": "692ed37d",
   "metadata": {},
   "outputs": [],
   "source": [
    "# Library load\n",
    "import os\n",
    "import pandas as pd\n",
    "import numpy as np\n",
    "\n",
    "# Plotting library\n",
    "import seaborn as sn\n",
    "import matplotlib.pyplot as plt\n",
    "\n",
    "# Funciones para hacer cálculo estadístico\n",
    "import statsmodels.api as sm\n",
    "from statsmodels.formula.api import ols\n",
    "\n",
    "# sklearn packages\n",
    "from sklearn.preprocessing import StandardScaler # Análisis de PCA\n",
    "from sklearn import metrics # Calcula métricas para un modelo\n",
    "from sklearn import tree # Cálculo de decision trees\n",
    "from sklearn.tree import DecisionTreeClassifier # Generación de modelos de decision tree\n",
    "from sklearn.ensemble import BaggingClassifier # Generación de modelos de bagging\n",
    "from sklearn.ensemble import RandomForestClassifier # Generación de modelo de random forest\n",
    "from sklearn.model_selection import train_test_split # Hace split entre training y testing\n",
    "from sklearn.model_selection import cross_validate # trains model with cross validation\n",
    "from sklearn.model_selection import GridSearchCV # Optimización de hiperparámetros para un modelo\n",
    "\n",
    "# Confusion matrix viz\n",
    "from mlxtend.evaluate import confusion_matrix # Calcula la matriz de confusion \n",
    "from mlxtend.plotting import plot_confusion_matrix #plot de la matriz de confusión\n",
    "\n",
    "# Ignoring warning messaages\n",
    "import warnings\n",
    "warnings.filterwarnings('ignore') #ignora los errores en el notebook"
   ]
  },
  {
   "cell_type": "code",
   "execution_count": 2,
   "id": "47276ee4",
   "metadata": {},
   "outputs": [
    {
     "data": {
      "text/html": [
       "<div>\n",
       "<style scoped>\n",
       "    .dataframe tbody tr th:only-of-type {\n",
       "        vertical-align: middle;\n",
       "    }\n",
       "\n",
       "    .dataframe tbody tr th {\n",
       "        vertical-align: top;\n",
       "    }\n",
       "\n",
       "    .dataframe thead th {\n",
       "        text-align: right;\n",
       "    }\n",
       "</style>\n",
       "<table border=\"1\" class=\"dataframe\">\n",
       "  <thead>\n",
       "    <tr style=\"text-align: right;\">\n",
       "      <th></th>\n",
       "      <th>id</th>\n",
       "      <th>price</th>\n",
       "      <th>currency</th>\n",
       "      <th>latitude</th>\n",
       "      <th>longitude</th>\n",
       "      <th>sq_meters</th>\n",
       "      <th>sq_meters_built</th>\n",
       "      <th>rooms</th>\n",
       "      <th>bathrooms</th>\n",
       "      <th>balcony</th>\n",
       "      <th>...</th>\n",
       "      <th>neighborhood</th>\n",
       "      <th>dist_city_center</th>\n",
       "      <th>furniture</th>\n",
       "      <th>garage</th>\n",
       "      <th>property_type</th>\n",
       "      <th>garden</th>\n",
       "      <th>closest_station</th>\n",
       "      <th>dist_closest_station</th>\n",
       "      <th>created_at</th>\n",
       "      <th>last_seen</th>\n",
       "    </tr>\n",
       "  </thead>\n",
       "  <tbody>\n",
       "    <tr>\n",
       "      <th>0</th>\n",
       "      <td>536625</td>\n",
       "      <td>850</td>\n",
       "      <td>€/mes</td>\n",
       "      <td>41.401708</td>\n",
       "      <td>2.154077</td>\n",
       "      <td>52.0</td>\n",
       "      <td>55</td>\n",
       "      <td>2</td>\n",
       "      <td>1</td>\n",
       "      <td>NaN</td>\n",
       "      <td>...</td>\n",
       "      <td>Gràcia</td>\n",
       "      <td>2.026455</td>\n",
       "      <td>3.0</td>\n",
       "      <td>NaN</td>\n",
       "      <td>piso</td>\n",
       "      <td>NaN</td>\n",
       "      <td>Fontana</td>\n",
       "      <td>0.094111</td>\n",
       "      <td>9/1/2021 15:58</td>\n",
       "      <td>10/4/2021 6:01</td>\n",
       "    </tr>\n",
       "    <tr>\n",
       "      <th>1</th>\n",
       "      <td>545910</td>\n",
       "      <td>725</td>\n",
       "      <td>€/mes</td>\n",
       "      <td>41.407221</td>\n",
       "      <td>2.135569</td>\n",
       "      <td>32.0</td>\n",
       "      <td>37</td>\n",
       "      <td>2</td>\n",
       "      <td>1</td>\n",
       "      <td>1.0</td>\n",
       "      <td>...</td>\n",
       "      <td>Sant Gervasi - La Bonanova</td>\n",
       "      <td>3.582409</td>\n",
       "      <td>NaN</td>\n",
       "      <td>NaN</td>\n",
       "      <td>piso</td>\n",
       "      <td>NaN</td>\n",
       "      <td>Vallcarca</td>\n",
       "      <td>0.902561</td>\n",
       "      <td>9/2/2021 15:24</td>\n",
       "      <td>9/8/2021 12:29</td>\n",
       "    </tr>\n",
       "    <tr>\n",
       "      <th>2</th>\n",
       "      <td>570697</td>\n",
       "      <td>950</td>\n",
       "      <td>€/mes</td>\n",
       "      <td>41.411508</td>\n",
       "      <td>2.164608</td>\n",
       "      <td>NaN</td>\n",
       "      <td>72</td>\n",
       "      <td>3</td>\n",
       "      <td>1</td>\n",
       "      <td>NaN</td>\n",
       "      <td>...</td>\n",
       "      <td>El Baix Guinardó</td>\n",
       "      <td>2.663025</td>\n",
       "      <td>3.0</td>\n",
       "      <td>NaN</td>\n",
       "      <td>piso</td>\n",
       "      <td>NaN</td>\n",
       "      <td>Alfons X</td>\n",
       "      <td>0.188177</td>\n",
       "      <td>8/28/2021 23:52</td>\n",
       "      <td>8/28/2021 23:52</td>\n",
       "    </tr>\n",
       "    <tr>\n",
       "      <th>3</th>\n",
       "      <td>591588</td>\n",
       "      <td>750</td>\n",
       "      <td>€/mes</td>\n",
       "      <td>41.402256</td>\n",
       "      <td>2.140764</td>\n",
       "      <td>NaN</td>\n",
       "      <td>45</td>\n",
       "      <td>1</td>\n",
       "      <td>1</td>\n",
       "      <td>1.0</td>\n",
       "      <td>...</td>\n",
       "      <td>Sant Gervasi - La Bonanova</td>\n",
       "      <td>2.910067</td>\n",
       "      <td>3.0</td>\n",
       "      <td>NaN</td>\n",
       "      <td>piso</td>\n",
       "      <td>NaN</td>\n",
       "      <td>Lesseps</td>\n",
       "      <td>0.892917</td>\n",
       "      <td>8/29/2021 11:25</td>\n",
       "      <td>9/8/2021 12:29</td>\n",
       "    </tr>\n",
       "    <tr>\n",
       "      <th>4</th>\n",
       "      <td>610243</td>\n",
       "      <td>990</td>\n",
       "      <td>€/mes</td>\n",
       "      <td>41.405327</td>\n",
       "      <td>2.146929</td>\n",
       "      <td>NaN</td>\n",
       "      <td>45</td>\n",
       "      <td>1</td>\n",
       "      <td>1</td>\n",
       "      <td>NaN</td>\n",
       "      <td>...</td>\n",
       "      <td>Sarrià-Sant Gervasi</td>\n",
       "      <td>2.727149</td>\n",
       "      <td>3.0</td>\n",
       "      <td>NaN</td>\n",
       "      <td>piso</td>\n",
       "      <td>NaN</td>\n",
       "      <td>Lesseps</td>\n",
       "      <td>0.293784</td>\n",
       "      <td>8/30/2021 13:48</td>\n",
       "      <td>8/30/2021 14:04</td>\n",
       "    </tr>\n",
       "  </tbody>\n",
       "</table>\n",
       "<p>5 rows × 33 columns</p>\n",
       "</div>"
      ],
      "text/plain": [
       "       id  price currency   latitude  longitude  sq_meters  sq_meters_built  \\\n",
       "0  536625    850    €/mes  41.401708   2.154077       52.0               55   \n",
       "1  545910    725    €/mes  41.407221   2.135569       32.0               37   \n",
       "2  570697    950    €/mes  41.411508   2.164608        NaN               72   \n",
       "3  591588    750    €/mes  41.402256   2.140764        NaN               45   \n",
       "4  610243    990    €/mes  41.405327   2.146929        NaN               45   \n",
       "\n",
       "   rooms  bathrooms  balcony  ...                neighborhood  \\\n",
       "0      2          1      NaN  ...                      Gràcia   \n",
       "1      2          1      1.0  ...  Sant Gervasi - La Bonanova   \n",
       "2      3          1      NaN  ...            El Baix Guinardó   \n",
       "3      1          1      1.0  ...  Sant Gervasi - La Bonanova   \n",
       "4      1          1      NaN  ...         Sarrià-Sant Gervasi   \n",
       "\n",
       "   dist_city_center furniture  garage  property_type  garden  closest_station  \\\n",
       "0          2.026455       3.0     NaN           piso     NaN          Fontana   \n",
       "1          3.582409       NaN     NaN           piso     NaN        Vallcarca   \n",
       "2          2.663025       3.0     NaN           piso     NaN         Alfons X   \n",
       "3          2.910067       3.0     NaN           piso     NaN          Lesseps   \n",
       "4          2.727149       3.0     NaN           piso     NaN          Lesseps   \n",
       "\n",
       "   dist_closest_station       created_at        last_seen  \n",
       "0              0.094111   9/1/2021 15:58   10/4/2021 6:01  \n",
       "1              0.902561   9/2/2021 15:24   9/8/2021 12:29  \n",
       "2              0.188177  8/28/2021 23:52  8/28/2021 23:52  \n",
       "3              0.892917  8/29/2021 11:25   9/8/2021 12:29  \n",
       "4              0.293784  8/30/2021 13:48  8/30/2021 14:04  \n",
       "\n",
       "[5 rows x 33 columns]"
      ]
     },
     "execution_count": 2,
     "metadata": {},
     "output_type": "execute_result"
    }
   ],
   "source": [
    "raw_data = pd.read_csv('processed_renting_Barcelona (2).csv', delimiter = ',')\n",
    "raw_data.head()"
   ]
  },
  {
   "cell_type": "markdown",
   "id": "6de62efc",
   "metadata": {},
   "source": [
    "#### Estadística descriptiva y calidad general de los datos"
   ]
  },
  {
   "cell_type": "code",
   "execution_count": 3,
   "id": "f6a30a78",
   "metadata": {},
   "outputs": [
    {
     "ename": "KeyError",
     "evalue": "\"['column_name'] not found in axis\"",
     "output_type": "error",
     "traceback": [
      "\u001b[0;31m---------------------------------------------------------------------------\u001b[0m",
      "\u001b[0;31mKeyError\u001b[0m                                  Traceback (most recent call last)",
      "\u001b[0;32m/var/folders/f7/z_6qsyw14dldjjqys6qv14bw0000gn/T/ipykernel_76308/130731097.py\u001b[0m in \u001b[0;36m<module>\u001b[0;34m\u001b[0m\n\u001b[1;32m      3\u001b[0m \u001b[0mraw_data\u001b[0m\u001b[0;34m.\u001b[0m\u001b[0mcolumns\u001b[0m \u001b[0;31m# Enumera las columnas del dataset\u001b[0m\u001b[0;34m\u001b[0m\u001b[0;34m\u001b[0m\u001b[0m\n\u001b[1;32m      4\u001b[0m \u001b[0mraw_data\u001b[0m\u001b[0;34m.\u001b[0m\u001b[0misnull\u001b[0m\u001b[0;34m(\u001b[0m\u001b[0;34m)\u001b[0m\u001b[0;34m.\u001b[0m\u001b[0msum\u001b[0m\u001b[0;34m(\u001b[0m\u001b[0;34m)\u001b[0m \u001b[0;34m/\u001b[0m \u001b[0mlen\u001b[0m\u001b[0;34m(\u001b[0m\u001b[0mraw_data\u001b[0m\u001b[0;34m)\u001b[0m \u001b[0;31m# Calcula la proporción de null values sobre todas las variables\u001b[0m\u001b[0;34m\u001b[0m\u001b[0;34m\u001b[0m\u001b[0m\n\u001b[0;32m----> 5\u001b[0;31m \u001b[0mraw_data\u001b[0m\u001b[0;34m.\u001b[0m\u001b[0mdrop\u001b[0m\u001b[0;34m(\u001b[0m\u001b[0;34m[\u001b[0m\u001b[0;34m'column_name'\u001b[0m\u001b[0;34m]\u001b[0m\u001b[0;34m,\u001b[0m \u001b[0maxis\u001b[0m\u001b[0;34m=\u001b[0m\u001b[0;36m1\u001b[0m\u001b[0;34m)\u001b[0m \u001b[0;31m# Retira columnas que no nos sean útiles en el dataset\u001b[0m\u001b[0;34m\u001b[0m\u001b[0;34m\u001b[0m\u001b[0m\n\u001b[0m\u001b[1;32m      6\u001b[0m \u001b[0mraw_data\u001b[0m\u001b[0;34m[\u001b[0m\u001b[0;34m'column_name'\u001b[0m\u001b[0;34m]\u001b[0m\u001b[0;34m.\u001b[0m\u001b[0mfillna\u001b[0m\u001b[0;34m(\u001b[0m\u001b[0;36m0\u001b[0m\u001b[0;34m,\u001b[0m \u001b[0minplace\u001b[0m \u001b[0;34m=\u001b[0m \u001b[0;32mTrue\u001b[0m\u001b[0;34m)\u001b[0m \u001b[0;31m# Sustituye los Null values de una columna por 0. Podemos cambiar el 0 por cualquier otro valor\u001b[0m\u001b[0;34m\u001b[0m\u001b[0;34m\u001b[0m\u001b[0m\n",
      "\u001b[0;32m~/opt/anaconda3/lib/python3.9/site-packages/pandas/util/_decorators.py\u001b[0m in \u001b[0;36mwrapper\u001b[0;34m(*args, **kwargs)\u001b[0m\n\u001b[1;32m    309\u001b[0m                     \u001b[0mstacklevel\u001b[0m\u001b[0;34m=\u001b[0m\u001b[0mstacklevel\u001b[0m\u001b[0;34m,\u001b[0m\u001b[0;34m\u001b[0m\u001b[0;34m\u001b[0m\u001b[0m\n\u001b[1;32m    310\u001b[0m                 )\n\u001b[0;32m--> 311\u001b[0;31m             \u001b[0;32mreturn\u001b[0m \u001b[0mfunc\u001b[0m\u001b[0;34m(\u001b[0m\u001b[0;34m*\u001b[0m\u001b[0margs\u001b[0m\u001b[0;34m,\u001b[0m \u001b[0;34m**\u001b[0m\u001b[0mkwargs\u001b[0m\u001b[0;34m)\u001b[0m\u001b[0;34m\u001b[0m\u001b[0;34m\u001b[0m\u001b[0m\n\u001b[0m\u001b[1;32m    312\u001b[0m \u001b[0;34m\u001b[0m\u001b[0m\n\u001b[1;32m    313\u001b[0m         \u001b[0;32mreturn\u001b[0m \u001b[0mwrapper\u001b[0m\u001b[0;34m\u001b[0m\u001b[0;34m\u001b[0m\u001b[0m\n",
      "\u001b[0;32m~/opt/anaconda3/lib/python3.9/site-packages/pandas/core/frame.py\u001b[0m in \u001b[0;36mdrop\u001b[0;34m(self, labels, axis, index, columns, level, inplace, errors)\u001b[0m\n\u001b[1;32m   4904\u001b[0m                 \u001b[0mweight\u001b[0m  \u001b[0;36m1.0\u001b[0m     \u001b[0;36m0.8\u001b[0m\u001b[0;34m\u001b[0m\u001b[0;34m\u001b[0m\u001b[0m\n\u001b[1;32m   4905\u001b[0m         \"\"\"\n\u001b[0;32m-> 4906\u001b[0;31m         return super().drop(\n\u001b[0m\u001b[1;32m   4907\u001b[0m             \u001b[0mlabels\u001b[0m\u001b[0;34m=\u001b[0m\u001b[0mlabels\u001b[0m\u001b[0;34m,\u001b[0m\u001b[0;34m\u001b[0m\u001b[0;34m\u001b[0m\u001b[0m\n\u001b[1;32m   4908\u001b[0m             \u001b[0maxis\u001b[0m\u001b[0;34m=\u001b[0m\u001b[0maxis\u001b[0m\u001b[0;34m,\u001b[0m\u001b[0;34m\u001b[0m\u001b[0;34m\u001b[0m\u001b[0m\n",
      "\u001b[0;32m~/opt/anaconda3/lib/python3.9/site-packages/pandas/core/generic.py\u001b[0m in \u001b[0;36mdrop\u001b[0;34m(self, labels, axis, index, columns, level, inplace, errors)\u001b[0m\n\u001b[1;32m   4148\u001b[0m         \u001b[0;32mfor\u001b[0m \u001b[0maxis\u001b[0m\u001b[0;34m,\u001b[0m \u001b[0mlabels\u001b[0m \u001b[0;32min\u001b[0m \u001b[0maxes\u001b[0m\u001b[0;34m.\u001b[0m\u001b[0mitems\u001b[0m\u001b[0;34m(\u001b[0m\u001b[0;34m)\u001b[0m\u001b[0;34m:\u001b[0m\u001b[0;34m\u001b[0m\u001b[0;34m\u001b[0m\u001b[0m\n\u001b[1;32m   4149\u001b[0m             \u001b[0;32mif\u001b[0m \u001b[0mlabels\u001b[0m \u001b[0;32mis\u001b[0m \u001b[0;32mnot\u001b[0m \u001b[0;32mNone\u001b[0m\u001b[0;34m:\u001b[0m\u001b[0;34m\u001b[0m\u001b[0;34m\u001b[0m\u001b[0m\n\u001b[0;32m-> 4150\u001b[0;31m                 \u001b[0mobj\u001b[0m \u001b[0;34m=\u001b[0m \u001b[0mobj\u001b[0m\u001b[0;34m.\u001b[0m\u001b[0m_drop_axis\u001b[0m\u001b[0;34m(\u001b[0m\u001b[0mlabels\u001b[0m\u001b[0;34m,\u001b[0m \u001b[0maxis\u001b[0m\u001b[0;34m,\u001b[0m \u001b[0mlevel\u001b[0m\u001b[0;34m=\u001b[0m\u001b[0mlevel\u001b[0m\u001b[0;34m,\u001b[0m \u001b[0merrors\u001b[0m\u001b[0;34m=\u001b[0m\u001b[0merrors\u001b[0m\u001b[0;34m)\u001b[0m\u001b[0;34m\u001b[0m\u001b[0;34m\u001b[0m\u001b[0m\n\u001b[0m\u001b[1;32m   4151\u001b[0m \u001b[0;34m\u001b[0m\u001b[0m\n\u001b[1;32m   4152\u001b[0m         \u001b[0;32mif\u001b[0m \u001b[0minplace\u001b[0m\u001b[0;34m:\u001b[0m\u001b[0;34m\u001b[0m\u001b[0;34m\u001b[0m\u001b[0m\n",
      "\u001b[0;32m~/opt/anaconda3/lib/python3.9/site-packages/pandas/core/generic.py\u001b[0m in \u001b[0;36m_drop_axis\u001b[0;34m(self, labels, axis, level, errors)\u001b[0m\n\u001b[1;32m   4183\u001b[0m                 \u001b[0mnew_axis\u001b[0m \u001b[0;34m=\u001b[0m \u001b[0maxis\u001b[0m\u001b[0;34m.\u001b[0m\u001b[0mdrop\u001b[0m\u001b[0;34m(\u001b[0m\u001b[0mlabels\u001b[0m\u001b[0;34m,\u001b[0m \u001b[0mlevel\u001b[0m\u001b[0;34m=\u001b[0m\u001b[0mlevel\u001b[0m\u001b[0;34m,\u001b[0m \u001b[0merrors\u001b[0m\u001b[0;34m=\u001b[0m\u001b[0merrors\u001b[0m\u001b[0;34m)\u001b[0m\u001b[0;34m\u001b[0m\u001b[0;34m\u001b[0m\u001b[0m\n\u001b[1;32m   4184\u001b[0m             \u001b[0;32melse\u001b[0m\u001b[0;34m:\u001b[0m\u001b[0;34m\u001b[0m\u001b[0;34m\u001b[0m\u001b[0m\n\u001b[0;32m-> 4185\u001b[0;31m                 \u001b[0mnew_axis\u001b[0m \u001b[0;34m=\u001b[0m \u001b[0maxis\u001b[0m\u001b[0;34m.\u001b[0m\u001b[0mdrop\u001b[0m\u001b[0;34m(\u001b[0m\u001b[0mlabels\u001b[0m\u001b[0;34m,\u001b[0m \u001b[0merrors\u001b[0m\u001b[0;34m=\u001b[0m\u001b[0merrors\u001b[0m\u001b[0;34m)\u001b[0m\u001b[0;34m\u001b[0m\u001b[0;34m\u001b[0m\u001b[0m\n\u001b[0m\u001b[1;32m   4186\u001b[0m             \u001b[0mresult\u001b[0m \u001b[0;34m=\u001b[0m \u001b[0mself\u001b[0m\u001b[0;34m.\u001b[0m\u001b[0mreindex\u001b[0m\u001b[0;34m(\u001b[0m\u001b[0;34m**\u001b[0m\u001b[0;34m{\u001b[0m\u001b[0maxis_name\u001b[0m\u001b[0;34m:\u001b[0m \u001b[0mnew_axis\u001b[0m\u001b[0;34m}\u001b[0m\u001b[0;34m)\u001b[0m\u001b[0;34m\u001b[0m\u001b[0;34m\u001b[0m\u001b[0m\n\u001b[1;32m   4187\u001b[0m \u001b[0;34m\u001b[0m\u001b[0m\n",
      "\u001b[0;32m~/opt/anaconda3/lib/python3.9/site-packages/pandas/core/indexes/base.py\u001b[0m in \u001b[0;36mdrop\u001b[0;34m(self, labels, errors)\u001b[0m\n\u001b[1;32m   6015\u001b[0m         \u001b[0;32mif\u001b[0m \u001b[0mmask\u001b[0m\u001b[0;34m.\u001b[0m\u001b[0many\u001b[0m\u001b[0;34m(\u001b[0m\u001b[0;34m)\u001b[0m\u001b[0;34m:\u001b[0m\u001b[0;34m\u001b[0m\u001b[0;34m\u001b[0m\u001b[0m\n\u001b[1;32m   6016\u001b[0m             \u001b[0;32mif\u001b[0m \u001b[0merrors\u001b[0m \u001b[0;34m!=\u001b[0m \u001b[0;34m\"ignore\"\u001b[0m\u001b[0;34m:\u001b[0m\u001b[0;34m\u001b[0m\u001b[0;34m\u001b[0m\u001b[0m\n\u001b[0;32m-> 6017\u001b[0;31m                 \u001b[0;32mraise\u001b[0m \u001b[0mKeyError\u001b[0m\u001b[0;34m(\u001b[0m\u001b[0;34mf\"{labels[mask]} not found in axis\"\u001b[0m\u001b[0;34m)\u001b[0m\u001b[0;34m\u001b[0m\u001b[0;34m\u001b[0m\u001b[0m\n\u001b[0m\u001b[1;32m   6018\u001b[0m             \u001b[0mindexer\u001b[0m \u001b[0;34m=\u001b[0m \u001b[0mindexer\u001b[0m\u001b[0;34m[\u001b[0m\u001b[0;34m~\u001b[0m\u001b[0mmask\u001b[0m\u001b[0;34m]\u001b[0m\u001b[0;34m\u001b[0m\u001b[0;34m\u001b[0m\u001b[0m\n\u001b[1;32m   6019\u001b[0m         \u001b[0;32mreturn\u001b[0m \u001b[0mself\u001b[0m\u001b[0;34m.\u001b[0m\u001b[0mdelete\u001b[0m\u001b[0;34m(\u001b[0m\u001b[0mindexer\u001b[0m\u001b[0;34m)\u001b[0m\u001b[0;34m\u001b[0m\u001b[0;34m\u001b[0m\u001b[0m\n",
      "\u001b[0;31mKeyError\u001b[0m: \"['column_name'] not found in axis\""
     ]
    }
   ],
   "source": [
    "# Funciones útiles:\n",
    "raw_data.describe() # Equivalente a función summary\n",
    "raw_data.columns # Enumera las columnas del dataset\n",
    "raw_data.isnull().sum() / len(raw_data) # Calcula la proporción de null values sobre todas las variables\n",
    "raw_data.drop(['column_name'], axis=1) # Retira columnas que no nos sean útiles en el dataset\n",
    "raw_data['column_name'].fillna(0, inplace = True) # Sustituye los Null values de una columna por 0. Podemos cambiar el 0 por cualquier otro valor"
   ]
  },
  {
   "cell_type": "markdown",
   "id": "b4dcac17",
   "metadata": {},
   "source": [
    "#### Visualizaciones y análisis que ayuden a entender la distribución de las variables continuas y categorías independientemente"
   ]
  },
  {
   "cell_type": "code",
   "execution_count": null,
   "id": "8a19fdbb",
   "metadata": {},
   "outputs": [],
   "source": [
    "# Histogramas para entender la distribución de las variables\n",
    "raw_data.hist(bins=20, figsize=(25, 20))\n",
    "# Para variables categóricas podemos hacer la función groupby\n",
    "raw_data[['column_name', 'price']].groupby('column_name').agg(\n",
    "    # Number of instances per category\n",
    "    category_count=('price', \"count\"),\n",
    "    # Mean price\n",
    "    mean_price=('price', \"mean\"),\n",
    "    # Median price\n",
    "    median_price=('price', \"median\"),\n",
    "    # Min price\n",
    "    min_price=('price', min),\n",
    "    # Max price\n",
    "    max_price=('price', max),\n",
    "    # Standard deviation\n",
    "    stantard_deviation=('price', \"std\"))"
   ]
  },
  {
   "cell_type": "markdown",
   "id": "3a6a2a41",
   "metadata": {},
   "source": [
    "#### Visualizaciones y análisis que ayuden a entender la relación entre las variables categóricas y la variable objetivo price"
   ]
  },
  {
   "cell_type": "code",
   "execution_count": null,
   "id": "ff7600cb",
   "metadata": {},
   "outputs": [],
   "source": [
    "# Test ANOVA para \n",
    "model = ols('price ~ column_name', data=raw_data).fit()\n",
    "aov_table = sm.stats.anova_lm(model, typ=2)\n",
    "\n",
    "# Scatter matrix, similar a la función pairs. Cuidado que solo sive para variables numéricas\n",
    "pd.plotting.scatter_matrix(raw_data, alpha=0.2, figsize=(20, 20), diagonal='kde')\n",
    "\n",
    "# Análisis de PCA. Cuidado que solo sive para variables numéricas y que hay que retirar la variable objetivo\n",
    "StandardScaler().fit_transform(raw_data)"
   ]
  },
  {
   "cell_type": "markdown",
   "id": "f616d00d",
   "metadata": {},
   "source": [
    "#### Alteración y creación de nuevas variables"
   ]
  },
  {
   "cell_type": "code",
   "execution_count": null,
   "id": "e9ed1a5f",
   "metadata": {},
   "outputs": [],
   "source": [
    "dataset_numerico =  raw_data[['price', 'sq_meters_built', 'dist_city_center']]\n",
    "dataset_numerico"
   ]
  },
  {
   "cell_type": "markdown",
   "id": "e8292729",
   "metadata": {},
   "source": [
    "#### Visualizaciones y análisis que ayuden a entender la posible correlación entre variables"
   ]
  },
  {
   "cell_type": "code",
   "execution_count": null,
   "id": "92c9e8ac",
   "metadata": {},
   "outputs": [],
   "source": [
    "# Análisis de correlación\n",
    "corrMatrix = raw_data.corr()\n",
    "# Visualización de la matriz de correlación\n",
    "sn.heatmap(corrMatrix, annot=True)\n",
    "plt.show()"
   ]
  },
  {
   "cell_type": "markdown",
   "id": "674db2a4",
   "metadata": {},
   "source": [
    "### Modelo de Bagging\n",
    "\n",
    "En éste punto crearemos nuestro primer modelo de bagging. Para ello realizaremos los siguientes puntos:\n",
    "\n",
    "- Selección de la métrica de optimización: ¿Qué métrica debemos utilizar para optimizar y valorar la calidad de nuestros modelos?\n",
    "- Split del dataset en training y test: ¿Cómo debemos separar los datos para entrenar y validar nuestro modelo?\n",
    "- Optimización de hiperparámetros mediante Cross Validation: ¿Qué hiperparámetros deberíamos utilizar para entrenar nuestro modelo?\n",
    "- Entrenamiento del modelo y análisis de los resultados: ¿Es bueno nuestro modelo?\n",
    "\n",
    "**Objetivos de éste punto:**\n",
    "\n",
    "- Definir cómo mediremos los resultados de nuestro modelo\n",
    "- Generar y entrenar un modelo de datos"
   ]
  },
  {
   "cell_type": "markdown",
   "id": "9e4df073",
   "metadata": {},
   "source": [
    "#### Selección de la métrica de optimización\n",
    "\n",
    "- Tipos de scoring metrics: https://scikit-learn.org/stable/modules/model_evaluation.html#scoring-parameter"
   ]
  },
  {
   "cell_type": "code",
   "execution_count": null,
   "id": "75316904",
   "metadata": {},
   "outputs": [],
   "source": []
  },
  {
   "cell_type": "markdown",
   "id": "321fa5dc",
   "metadata": {},
   "source": [
    "#### Split del dataset en training y test"
   ]
  },
  {
   "cell_type": "code",
   "execution_count": null,
   "id": "6ffb2102",
   "metadata": {},
   "outputs": [],
   "source": [
    "X = dataset_numerico.drop(['price'], axis = 1)\n",
    "y = dataset_numerico[['price']]\n",
    "X_train, X_test, y_train, y_test = train_test_split(X, y, test_size=0.2, random_state=7)"
   ]
  },
  {
   "cell_type": "markdown",
   "id": "e57394d4",
   "metadata": {},
   "source": [
    "#### Optimización de hiperparámetros mediante Cross Validation\n",
    "\n",
    "- Decision tree classifier: https://scikit-learn.org/stable/modules/generated/sklearn.tree.DecisionTreeClassifier.html\n",
    "- Bagging classifier: https://scikit-learn.org/stable/modules/generated/sklearn.ensemble.BaggingClassifier.html"
   ]
  },
  {
   "cell_type": "code",
   "execution_count": null,
   "id": "21da4e12",
   "metadata": {},
   "outputs": [],
   "source": [
    "# we enumerate the values to try\n",
    "parameters = [{\"max_depth\":[2,3,4,5,6,7,9,10,12,15], \"min_samples_split\":[2,5,10]}]\n",
    "\n",
    "#instantiate the classifier\n",
    "decision_tree_model = DecisionTreeClassifier()\n",
    "\n",
    "# Grid search function\n",
    "grid_bag = GridSearchCV(cv = 10, estimator=decision_tree_model, param_grid=parameters, scoring=\"accuracy\")\n",
    "grid_bag.fit(X_train, y_train)\n",
    "grid_bag.best_estimator_"
   ]
  },
  {
   "cell_type": "code",
   "execution_count": null,
   "id": "a311069e",
   "metadata": {},
   "outputs": [],
   "source": [
    "# we enumerate the values to try\n",
    "parameters = [{\"n_estimators\":[1,5,10,20,50,100,200]]\n",
    "\n",
    "#instantiate the classifier\n",
    "bagging_model = BaggingClassifier(decision_tree_model)\n",
    "\n",
    "# Grid search function\n",
    "grid_bag = GridSearchCV(cv = 10, estimator=bagging_model, param_grid=parameters, scoring=\"accuracy\")\n",
    "grid_bag.fit(X_train, y_train)\n",
    "grid_bag.best_estimator_"
   ]
  },
  {
   "cell_type": "markdown",
   "id": "15427c16",
   "metadata": {},
   "source": [
    "#### Entrenamiento del modelo y análisis de los resultados"
   ]
  },
  {
   "cell_type": "code",
   "execution_count": null,
   "id": "369ce1f8",
   "metadata": {},
   "outputs": [],
   "source": [
    "# Creamos el modelo con los hiperpametros seleccionados en el punto anterior\n",
    "bag = BaggingClassifier(DecisionTreeClassifier(max_depth = n, min_samples_split = m), n_estimators = n)\n",
    "# Entrenamos el modelo con el dataset de entrenamiento mediante cross validation\n",
    "model = cross_validate(bag, X_train, y_train, xv = 10, scoring=\"accuracy\")\n",
    "# Generación de las predicciones para el dataset de testing\n",
    "y_pred = model.predict(X_test)\n",
    "#error rate\n",
    "error = 1.0 - metrics.accuracy_score(y_test, y_pred)\n",
    "# Plot de la matriz de confusión\n",
    "fig, ax = plot_confusion_matrix(conf_mat=confusion_matrix(y_test, y_pred, binary = False))\n",
    "plt.show()"
   ]
  },
  {
   "cell_type": "markdown",
   "id": "af926fb3",
   "metadata": {},
   "source": [
    "# Ejemplo de modelo de Bagging"
   ]
  },
  {
   "cell_type": "code",
   "execution_count": null,
   "id": "e2904600",
   "metadata": {},
   "outputs": [],
   "source": [
    "raw_data.head()"
   ]
  },
  {
   "cell_type": "markdown",
   "id": "e49f6744",
   "metadata": {},
   "source": [
    "Retiramos las variables que no nos importan para el modelo"
   ]
  },
  {
   "cell_type": "code",
   "execution_count": null,
   "id": "ad520f40",
   "metadata": {},
   "outputs": [],
   "source": [
    "rent_dataset = raw_data[['price', 'sq_meters_built', 'rooms', 'bathrooms', 'balcony', 'terrace', 'exterior', 'orientation', 'floor', 'rooftop', 'elevator', 'pool', 'ac', 'heating', 'year_built', 'neighborhood', 'dist_city_center', 'property_type', 'dist_closest_station']]\n",
    "rent_dataset.head()"
   ]
  },
  {
   "cell_type": "markdown",
   "id": "c6ab2f8f",
   "metadata": {},
   "source": [
    "Podemos asumir que para algunas de las variables, los valores nulos son en realidad 0:"
   ]
  },
  {
   "cell_type": "code",
   "execution_count": null,
   "id": "0794505c",
   "metadata": {},
   "outputs": [],
   "source": [
    "features_to_null = ['balcony', 'terrace', 'exterior', 'rooftop', 'elevator', 'pool', 'ac']\n",
    "for i in range(0,len(features_to_null)):\n",
    "   rent_dataset[features_to_null[i]].fillna(0, inplace = True) \n",
    "rent_dataset.head()"
   ]
  },
  {
   "cell_type": "markdown",
   "id": "171dbcf3",
   "metadata": {},
   "source": [
    "Para otras, como por ejemplo la property_age, podemos transformarla a una variable categórica incluyendo los valores nulos como una categoría de unknown:"
   ]
  },
  {
   "cell_type": "code",
   "execution_count": null,
   "id": "9a1e4041",
   "metadata": {},
   "outputs": [],
   "source": [
    "rent_dataset['property_age'] = 2022 - rent_dataset['year_built']\n",
    "rent_dataset.head()"
   ]
  },
  {
   "cell_type": "code",
   "execution_count": null,
   "id": "dc600576",
   "metadata": {
    "scrolled": false
   },
   "outputs": [],
   "source": [
    "# Scatter matrix, similar a la función pairs. Cuidado que solo sive para variables numéricas\n",
    "rent_dataset[['property_age']].hist(bins=60, figsize=(25, 20))"
   ]
  },
  {
   "cell_type": "markdown",
   "id": "ce90598b",
   "metadata": {},
   "source": [
    "Apreciamos pequeños \"clusters de viviendas, los cuales podemos agrupar en categorías según la edad de la vivienda:"
   ]
  },
  {
   "cell_type": "code",
   "execution_count": null,
   "id": "375a4180",
   "metadata": {},
   "outputs": [],
   "source": [
    "def conditions(x):\n",
    "    if x < 0:\n",
    "        return \"Unknown\"\n",
    "    elif ((x >= 0) & (x < 40)):\n",
    "        return \"0 - 40\"\n",
    "    elif ((x >= 40) & (x < 70)):\n",
    "        return \"40 - 70\"\n",
    "    elif ((x >= 70) & (x < 120)):\n",
    "        return \"70 - 120\"\n",
    "    elif ((x >= 120) & (x < 150)):\n",
    "        return \"120 - 150\"\n",
    "    elif ((x >= 150)):\n",
    "        return \"+150\"\n",
    "    else:\n",
    "        return \"Unknown\"\n",
    "\n",
    "func = np.vectorize(conditions)\n",
    "rent_dataset['property_age_cat'] = func(rent_dataset['property_age'])\n",
    "rent_dataset.head()"
   ]
  },
  {
   "cell_type": "markdown",
   "id": "b5313daf",
   "metadata": {},
   "source": [
    "Del dataset que tenemos, generamos un subset con valores numéricos únicamente:"
   ]
  },
  {
   "cell_type": "code",
   "execution_count": null,
   "id": "75774711",
   "metadata": {},
   "outputs": [],
   "source": [
    "cat_features = ['neighborhood', 'property_type', 'orientation', 'heating', 'property_age_cat']\n",
    "rent_dataset_numeric = rent_dataset.drop(cat_features, axis = 1)\n",
    "rent_dataset_numeric"
   ]
  },
  {
   "cell_type": "markdown",
   "id": "3733ea3b",
   "metadata": {},
   "source": [
    "Comprobamos que no hay nulls"
   ]
  },
  {
   "cell_type": "code",
   "execution_count": null,
   "id": "3d74c791",
   "metadata": {},
   "outputs": [],
   "source": [
    "rent_dataset_numeric_no_nulls = rent_dataset_numeric.drop(['year_built', 'property_age', 'floor'], axis = 1)\n",
    "rent_dataset_numeric_no_nulls.isnull().sum() / len(rent_dataset_numeric_no_nulls)"
   ]
  },
  {
   "cell_type": "markdown",
   "id": "0766c145",
   "metadata": {},
   "source": [
    "Generamos el split"
   ]
  },
  {
   "cell_type": "code",
   "execution_count": null,
   "id": "d0d9f814",
   "metadata": {},
   "outputs": [],
   "source": [
    "X = rent_dataset_numeric_no_nulls.drop(['price'], axis = 1)\n",
    "y = rent_dataset_numeric_no_nulls[['price']]\n",
    "X_train, X_test, y_train, y_test = train_test_split(X, y, test_size=0.2, random_state=7)"
   ]
  },
  {
   "cell_type": "markdown",
   "id": "c83784bb",
   "metadata": {},
   "source": [
    "Ejemplos de scoring parameter: https://scikit-learn.org/stable/modules/model_evaluation.html#scoring-parameter\n",
    "\n",
    "En este caso optamos por un R2.\n",
    "\n",
    "Hacemos grid search con cross validation para encontrar los parámetros óptimos de nuestro modelo"
   ]
  },
  {
   "cell_type": "code",
   "execution_count": null,
   "id": "cd6e4013",
   "metadata": {},
   "outputs": [],
   "source": [
    "# we enumerate the values to try\n",
    "parameters = [{\"max_depth\":[2,3,4,5,6,7,9], \"min_samples_split\":[2,5,10]}]\n",
    "\n",
    "#instantiate the classifier\n",
    "decision_tree_model = DecisionTreeClassifier()\n",
    "\n",
    "# Grid search function\n",
    "grid_bag = GridSearchCV(cv = 10, estimator=decision_tree_model, param_grid=parameters, scoring=\"r2\")\n",
    "grid_bag.fit(X_train, y_train)"
   ]
  },
  {
   "cell_type": "code",
   "execution_count": null,
   "id": "43d5252a",
   "metadata": {},
   "outputs": [],
   "source": [
    "grid_bag.best_params_"
   ]
  },
  {
   "cell_type": "code",
   "execution_count": null,
   "id": "0141e249",
   "metadata": {},
   "outputs": [],
   "source": [
    "# we enumerate the values to try\n",
    "parameters = {\"n_estimators\":[1,5,10,20,50,100,200]}\n",
    "\n",
    "#instantiate the classifier\n",
    "decision_tree_model = DecisionTreeClassifier(max_depth = 9, min_samples_split = 10)\n",
    "\n",
    "#instantiate the classifier\n",
    "bagging_model = BaggingClassifier(decision_tree_model)\n",
    "\n",
    "# Grid search function\n",
    "grid_bag = GridSearchCV(cv = 10, estimator=bagging_model, param_grid=parameters, scoring=\"r2\")\n",
    "grid_bag.fit(X_train, y_train)\n",
    "grid_bag.best_params_"
   ]
  },
  {
   "cell_type": "markdown",
   "id": "589edf38",
   "metadata": {},
   "source": [
    "A continuación, con los parámetros óptimos del modelo, procedemos a hacer un xvalidation para entender la performance del modelo:"
   ]
  },
  {
   "cell_type": "code",
   "execution_count": null,
   "id": "d3d97bd0",
   "metadata": {},
   "outputs": [],
   "source": [
    "# Creamos el modelo con los hiperpametros seleccionados en el punto anterior\n",
    "bag = BaggingClassifier(DecisionTreeClassifier(max_depth = 9, min_samples_split = 10), n_estimators = 20)\n",
    "# Entrenamos el modelo con el dataset de entrenamiento mediante cross validation\n",
    "model = cross_validate(bag, X_train, y_train, cv = 10, scoring = \"r2\")"
   ]
  },
  {
   "cell_type": "code",
   "execution_count": null,
   "id": "b6e0a0d8",
   "metadata": {},
   "outputs": [],
   "source": [
    "for i, score in enumerate(model[\"test_score\"]):\n",
    "    print(f\"Accuracy for the fold no. {i} on the test set: {score}\")"
   ]
  },
  {
   "cell_type": "markdown",
   "id": "ccaff033",
   "metadata": {},
   "source": [
    "Nos encontramos con que hay mucha variación con los datos de entrenamiento (R2 de 0.35 o de 0.74). Ésto nos indica que hay mucha variación en los datos y que probablemente tengamos outlayers o grupos de instancias que no estamos prediciendo correctamente"
   ]
  },
  {
   "cell_type": "code",
   "execution_count": null,
   "id": "4fb8e392",
   "metadata": {},
   "outputs": [],
   "source": [
    "fig1, ax1 = plt.subplots()\n",
    "ax1.set_title('R2 del modelo de Bagging')\n",
    "ax1.boxplot(model[\"test_score\"])"
   ]
  },
  {
   "cell_type": "markdown",
   "id": "19bc3adc",
   "metadata": {},
   "source": [
    "Generamos las predicciones y calculamos el resultado de validación:"
   ]
  },
  {
   "cell_type": "code",
   "execution_count": null,
   "id": "65ef4da3",
   "metadata": {},
   "outputs": [],
   "source": [
    "bag = BaggingClassifier(DecisionTreeClassifier(max_depth = 9, min_samples_split = 10), n_estimators = 20)\n",
    "bag.fit(X_train, y_train)"
   ]
  },
  {
   "cell_type": "markdown",
   "id": "2addc60b",
   "metadata": {},
   "source": [
    "Error del modelo:"
   ]
  },
  {
   "cell_type": "code",
   "execution_count": null,
   "id": "abe6c9df",
   "metadata": {},
   "outputs": [],
   "source": [
    "y_pred = bag.predict(X_train)\n",
    "#error rate\n",
    "metrics.r2_score(y_train, y_pred)"
   ]
  },
  {
   "cell_type": "markdown",
   "id": "aac0d07f",
   "metadata": {},
   "source": [
    "Error en validación"
   ]
  },
  {
   "cell_type": "code",
   "execution_count": null,
   "id": "0b9b6a3b",
   "metadata": {},
   "outputs": [],
   "source": [
    "y_pred = bag.predict(X_test)\n",
    "#error rate\n",
    "metrics.r2_score(y_test, y_pred)"
   ]
  }
 ],
 "metadata": {
  "kernelspec": {
   "display_name": "Python 3 (ipykernel)",
   "language": "python",
   "name": "python3"
  },
  "language_info": {
   "codemirror_mode": {
    "name": "ipython",
    "version": 3
   },
   "file_extension": ".py",
   "mimetype": "text/x-python",
   "name": "python",
   "nbconvert_exporter": "python",
   "pygments_lexer": "ipython3",
   "version": "3.9.7"
  }
 },
 "nbformat": 4,
 "nbformat_minor": 5
}
