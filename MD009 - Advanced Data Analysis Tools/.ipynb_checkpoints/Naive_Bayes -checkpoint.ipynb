{
 "cells": [
  {
   "cell_type": "code",
   "execution_count": 1,
   "id": "99e9969f",
   "metadata": {},
   "outputs": [],
   "source": [
    "import pandas as pd\n",
    "import numpy as np\n",
    "import matplotlib.pyplot as plt\n",
    "import seaborn as sns\n",
    "import itertools\n",
    "import string as s\n",
    "import re\n",
    "import os\n",
    "\n",
    "#NLP processing\n",
    "import nltk\n",
    "from nltk.corpus import stopwords\n",
    "from nltk.stem.porter import PorterStemmer\n",
    "from nltk.stem import WordNetLemmatizer\n",
    "\n",
    "from nltk.corpus import stopwords\n",
    "from nltk import SnowballStemmer, word_tokenize\n",
    "\n",
    "from sklearn.naive_bayes import MultinomialNB\n",
    "from sklearn import metrics\n",
    "from sklearn.feature_extraction.text import CountVectorizer\n",
    "from sklearn.feature_extraction.text import TfidfVectorizer\n",
    "from sklearn.model_selection import train_test_split\n",
    "from sklearn.metrics import classification_report\n",
    "from sklearn.metrics import confusion_matrix\n",
    "from sklearn.metrics import f1_score,accuracy_score"
   ]
  },
  {
   "cell_type": "markdown",
   "id": "eb7c43f8",
   "metadata": {},
   "source": [
    "# Importing Data"
   ]
  },
  {
   "cell_type": "code",
   "execution_count": 2,
   "id": "109fe259",
   "metadata": {},
   "outputs": [
    {
     "data": {
      "text/html": [
       "<div>\n",
       "<style scoped>\n",
       "    .dataframe tbody tr th:only-of-type {\n",
       "        vertical-align: middle;\n",
       "    }\n",
       "\n",
       "    .dataframe tbody tr th {\n",
       "        vertical-align: top;\n",
       "    }\n",
       "\n",
       "    .dataframe thead th {\n",
       "        text-align: right;\n",
       "    }\n",
       "</style>\n",
       "<table border=\"1\" class=\"dataframe\">\n",
       "  <thead>\n",
       "    <tr style=\"text-align: right;\">\n",
       "      <th></th>\n",
       "      <th>headline</th>\n",
       "      <th>clickbait</th>\n",
       "    </tr>\n",
       "  </thead>\n",
       "  <tbody>\n",
       "    <tr>\n",
       "      <th>0</th>\n",
       "      <td>Should I Get Bings</td>\n",
       "      <td>1</td>\n",
       "    </tr>\n",
       "    <tr>\n",
       "      <th>1</th>\n",
       "      <td>Which TV Female Friend Group Do You Belong In</td>\n",
       "      <td>1</td>\n",
       "    </tr>\n",
       "    <tr>\n",
       "      <th>2</th>\n",
       "      <td>The New \"Star Wars: The Force Awakens\" Trailer...</td>\n",
       "      <td>1</td>\n",
       "    </tr>\n",
       "    <tr>\n",
       "      <th>3</th>\n",
       "      <td>This Vine Of New York On \"Celebrity Big Brothe...</td>\n",
       "      <td>1</td>\n",
       "    </tr>\n",
       "    <tr>\n",
       "      <th>4</th>\n",
       "      <td>A Couple Did A Stunning Photo Shoot With Their...</td>\n",
       "      <td>1</td>\n",
       "    </tr>\n",
       "    <tr>\n",
       "      <th>5</th>\n",
       "      <td>How To Flirt With Queer Girls Without Making A...</td>\n",
       "      <td>1</td>\n",
       "    </tr>\n",
       "    <tr>\n",
       "      <th>6</th>\n",
       "      <td>32 Cute Things To Distract From Your Awkward T...</td>\n",
       "      <td>1</td>\n",
       "    </tr>\n",
       "    <tr>\n",
       "      <th>7</th>\n",
       "      <td>If Disney Princesses Were From Florida</td>\n",
       "      <td>1</td>\n",
       "    </tr>\n",
       "    <tr>\n",
       "      <th>8</th>\n",
       "      <td>What's A Quote Or Lyric That Best Describes Yo...</td>\n",
       "      <td>1</td>\n",
       "    </tr>\n",
       "    <tr>\n",
       "      <th>9</th>\n",
       "      <td>Natalie Dormer And Sam Claflin Play A Game To ...</td>\n",
       "      <td>1</td>\n",
       "    </tr>\n",
       "  </tbody>\n",
       "</table>\n",
       "</div>"
      ],
      "text/plain": [
       "                                            headline  clickbait\n",
       "0                                 Should I Get Bings          1\n",
       "1      Which TV Female Friend Group Do You Belong In          1\n",
       "2  The New \"Star Wars: The Force Awakens\" Trailer...          1\n",
       "3  This Vine Of New York On \"Celebrity Big Brothe...          1\n",
       "4  A Couple Did A Stunning Photo Shoot With Their...          1\n",
       "5  How To Flirt With Queer Girls Without Making A...          1\n",
       "6  32 Cute Things To Distract From Your Awkward T...          1\n",
       "7             If Disney Princesses Were From Florida          1\n",
       "8  What's A Quote Or Lyric That Best Describes Yo...          1\n",
       "9  Natalie Dormer And Sam Claflin Play A Game To ...          1"
      ]
     },
     "execution_count": 2,
     "metadata": {},
     "output_type": "execute_result"
    }
   ],
   "source": [
    "dataset_url = 'https://raw.githubusercontent.com/josepicon/URL-/main/MD009%20-%20Advanced%20Data%20Analysis%20Tools/Project/clickbait_data.csv'\n",
    "df = pd.read_csv(dataset_url)\n",
    "\n",
    "df.head(10)\n"
   ]
  },
  {
   "cell_type": "markdown",
   "id": "31d9b670",
   "metadata": {},
   "source": [
    "# Analyzing the Dataset "
   ]
  },
  {
   "cell_type": "code",
   "execution_count": 3,
   "id": "3d09872b",
   "metadata": {},
   "outputs": [
    {
     "data": {
      "text/plain": [
       "0    16001\n",
       "1    15999\n",
       "Name: clickbait, dtype: int64"
      ]
     },
     "execution_count": 3,
     "metadata": {},
     "output_type": "execute_result"
    }
   ],
   "source": [
    "df.clickbait.value_counts()"
   ]
  },
  {
   "cell_type": "code",
   "execution_count": 4,
   "id": "6fa4c707",
   "metadata": {},
   "outputs": [
    {
     "data": {
      "image/png": "[encoded data removed]",
      "text/plain": [
       "<Figure size 720x432 with 1 Axes>"
      ]
     },
     "metadata": {
      "needs_background": "light"
     },
     "output_type": "display_data"
    }
   ],
   "source": [
    "fig, ax = plt.subplots(figsize=(10, 6))\n",
    "sns.countplot(data = df, x='clickbait')\n",
    "plt.show()"
   ]
  },
  {
   "cell_type": "markdown",
   "id": "e8c23785",
   "metadata": {},
   "source": [
    "Based on the visualization provided above, it looks like the dataset is evenly distributed, with almost equal amounts of headlines that are non-clickbait (=0) and clickbait (=1)."
   ]
  },
  {
   "cell_type": "markdown",
   "id": "8153d85a",
   "metadata": {},
   "source": [
    "# Transforming the Dataset"
   ]
  },
  {
   "cell_type": "code",
   "execution_count": 5,
   "id": "d61be843",
   "metadata": {},
   "outputs": [
    {
     "name": "stdout",
     "output_type": "stream",
     "text": [
      "Train\n",
      "(25600,)\n",
      "Test\n",
      "(6400,)\n"
     ]
    }
   ],
   "source": [
    "#splitting the data into test and training datasets \n",
    "\n",
    "x= df.headline\n",
    "y= df.clickbait\n",
    "train_x,test_x,train_y,test_y=train_test_split(x,y,test_size=0.2,random_state=2)\n",
    "\n",
    "#checking the size of our training and testing datasets \n",
    "print(\"Train\")\n",
    "print(train_x.shape)\n",
    "print(\"Test\")\n",
    "print(test_x.shape)"
   ]
  },
  {
   "cell_type": "code",
   "execution_count": 6,
   "id": "224187f8",
   "metadata": {},
   "outputs": [
    {
     "data": {
      "text/plain": [
       "1914     Let's See How Well You Remember The First Epis...\n",
       "25756    No Tortorella, No Spark, No Way for Rangers in...\n",
       "Name: headline, dtype: object"
      ]
     },
     "execution_count": 6,
     "metadata": {},
     "output_type": "execute_result"
    }
   ],
   "source": [
    "train_x.head(2)"
   ]
  },
  {
   "cell_type": "code",
   "execution_count": 7,
   "id": "49c2d487",
   "metadata": {},
   "outputs": [
    {
     "data": {
      "text/plain": [
       "26171    Sixteen Christian converts arrested in Iran; f...\n",
       "16224    Hiring of Isiah Thomas Angers Some F.I.U. Facu...\n",
       "Name: headline, dtype: object"
      ]
     },
     "execution_count": 7,
     "metadata": {},
     "output_type": "execute_result"
    }
   ],
   "source": [
    "test_x.head(2)"
   ]
  },
  {
   "cell_type": "code",
   "execution_count": 8,
   "id": "975d13ae",
   "metadata": {},
   "outputs": [
    {
     "data": {
      "text/plain": [
       "1914     1\n",
       "25756    0\n",
       "Name: clickbait, dtype: int64"
      ]
     },
     "execution_count": 8,
     "metadata": {},
     "output_type": "execute_result"
    }
   ],
   "source": [
    "train_y.head(2)"
   ]
  },
  {
   "cell_type": "code",
   "execution_count": 9,
   "id": "f18ee5e7",
   "metadata": {},
   "outputs": [
    {
     "data": {
      "text/plain": [
       "26171    0\n",
       "16224    0\n",
       "Name: clickbait, dtype: int64"
      ]
     },
     "execution_count": 9,
     "metadata": {},
     "output_type": "execute_result"
    }
   ],
   "source": [
    "test_y.head(2)"
   ]
  },
  {
   "cell_type": "code",
   "execution_count": 10,
   "id": "3d2b1918",
   "metadata": {},
   "outputs": [],
   "source": [
    "#Tokenization of the data where we are splitting the headlines into tokens (individual words) \n",
    "\n",
    "def token(text):\n",
    "    lst=text.split()\n",
    "    return lst\n",
    "train_x=train_x.apply(token)\n",
    "test_x=test_x.apply(token)"
   ]
  },
  {
   "cell_type": "code",
   "execution_count": 20,
   "id": "1a6ac932",
   "metadata": {},
   "outputs": [],
   "source": [
    "#transforming all the text into lowercase \n",
    "\n",
    "def lowercase(lst):\n",
    "    new_lst=[]\n",
    "    for i in lst:\n",
    "        i=i.lower()\n",
    "        new_lst.append(i)\n",
    "    return new_lst\n",
    "train_x=train_x.apply(lower)\n",
    "test_x=test_x.apply(lower) "
   ]
  },
  {
   "cell_type": "code",
   "execution_count": 12,
   "id": "5679efb7",
   "metadata": {},
   "outputs": [],
   "source": [
    "#remove punctuations \n",
    "\n",
    "def punctuations(lst):\n",
    "    new_lst=[]\n",
    "    for i in lst:\n",
    "        for j in s.punctuation:\n",
    "            i=i.replace(j,'')\n",
    "        new_lst.append(i)\n",
    "    return new_lst\n",
    "train_x=train_x.apply(punctuations)\n",
    "test_x=test_x.apply(punctuations)"
   ]
  },
  {
   "cell_type": "code",
   "execution_count": 13,
   "id": "9d50ee9b",
   "metadata": {},
   "outputs": [],
   "source": [
    "#remove numbers \n",
    "\n",
    "def numbers(lst):\n",
    "    nodig_lst=[]\n",
    "    new_lst=[]\n",
    "    for i in lst:\n",
    "        for j in s.digits:    \n",
    "            i=i.replace(j,'')\n",
    "        nodig_lst.append(i)\n",
    "    for i in nodig_lst:\n",
    "        if i!='':\n",
    "            new_lst.append(i)\n",
    "    return new_lst\n",
    "train_x=train_x.apply(numbers)\n",
    "test_x=test_x.apply(numbers)"
   ]
  },
  {
   "cell_type": "code",
   "execution_count": 14,
   "id": "b279b46b",
   "metadata": {},
   "outputs": [],
   "source": [
    "#remove stopwords\n",
    "\n",
    "def sw(lst):\n",
    "    stop=stopwords.words('english')\n",
    "    new_lst=[]\n",
    "    for i in lst:\n",
    "        if i not in stop:\n",
    "            new_lst.append(i)\n",
    "    return new_lst\n",
    "\n",
    "train_x=train_x.apply(sw)\n",
    "test_x=test_x.apply(sw)  "
   ]
  },
  {
   "cell_type": "code",
   "execution_count": 15,
   "id": "56a6c773",
   "metadata": {},
   "outputs": [],
   "source": [
    "#remove spaces \n",
    "\n",
    "def spaces(yes):\n",
    "    new_yes=[]\n",
    "    for i in yes:\n",
    "        i=i.strip()\n",
    "        new_yes.append(i)\n",
    "    return new_yes\n",
    "train_x=train_x.apply(spaces)\n",
    "test_x=test_x.apply(spaces)"
   ]
  },
  {
   "cell_type": "code",
   "execution_count": 16,
   "id": "038e781a",
   "metadata": {},
   "outputs": [
    {
     "data": {
      "text/plain": [
       "1914     [lets, see, well, remember, first, episode, mi...\n",
       "25756              [tortorella, spark, way, rangers, game]\n",
       "2391     [one, directions, new, music, video, perfect, ...\n",
       "2927     [woman, refused, change, facebook, picture, fr...\n",
       "21861               [draw, champions, league, round, made]\n",
       "Name: headline, dtype: object"
      ]
     },
     "execution_count": 16,
     "metadata": {},
     "output_type": "execute_result"
    }
   ],
   "source": [
    "train_x.head()"
   ]
  },
  {
   "cell_type": "markdown",
   "id": "84dfa95b",
   "metadata": {},
   "source": [
    "Above, we can see that the headlines have been tokenized (split into individual words), all words have been converted into lowercase, and all spaces, stopwords, numbers, and punctuations have been removed. "
   ]
  },
  {
   "cell_type": "markdown",
   "id": "91829735",
   "metadata": {},
   "source": [
    "# Text Pre-Processing, Lemmatization with NLTK"
   ]
  },
  {
   "cell_type": "markdown",
   "id": "d4f413f9",
   "metadata": {},
   "source": [
    "Lemmatization is the process of finding the dictionary form of a word, which is known as the lemma. Lemmatization usually refers to the morphological analysis of words, which aims to remove inflectional endings (i.e., Rocks = rock). It helps in returning the base or dictionary form of a word, which is known as the lemma. "
   ]
  },
  {
   "cell_type": "markdown",
   "id": "ab14b7ad",
   "metadata": {},
   "source": [
    "The NLTK Lemmatization method is based on WordNet’s built-in morph function. We will be downloading the WordNet Lemmatizer below: "
   ]
  },
  {
   "cell_type": "code",
   "execution_count": 25,
   "id": "76e2b32b",
   "metadata": {},
   "outputs": [
    {
     "name": "stdout",
     "output_type": "stream",
     "text": [
      "Requirement already satisfied: nltk in /Users/joseangelpicon/.local/lib/python3.9/site-packages (3.7)\n",
      "Requirement already satisfied: tqdm in /Users/joseangelpicon/opt/anaconda3/lib/python3.9/site-packages (from nltk) (4.62.3)\n",
      "Requirement already satisfied: regex>=2021.8.3 in /Users/joseangelpicon/opt/anaconda3/lib/python3.9/site-packages (from nltk) (2021.8.3)\n",
      "Requirement already satisfied: click in /Users/joseangelpicon/opt/anaconda3/lib/python3.9/site-packages (from nltk) (8.0.3)\n",
      "Requirement already satisfied: joblib in /Users/joseangelpicon/opt/anaconda3/lib/python3.9/site-packages (from nltk) (1.1.0)\n",
      "Note: you may need to restart the kernel to use updated packages.\n"
     ]
    }
   ],
   "source": [
    "pip install --user -U nltk"
   ]
  },
  {
   "cell_type": "code",
   "execution_count": 26,
   "id": "36c7661b",
   "metadata": {
    "scrolled": true
   },
   "outputs": [
    {
     "name": "stderr",
     "output_type": "stream",
     "text": [
      "[nltk_data] Downloading package wordnet to\n",
      "[nltk_data]     /Users/joseangelpicon/nltk_data...\n",
      "[nltk_data]   Package wordnet is already up-to-date!\n",
      "[nltk_data] Downloading package omw-1.4 to\n",
      "[nltk_data]     /Users/joseangelpicon/nltk_data...\n",
      "[nltk_data]   Package omw-1.4 is already up-to-date!\n"
     ]
    },
    {
     "data": {
      "text/plain": [
       "True"
      ]
     },
     "execution_count": 26,
     "metadata": {},
     "output_type": "execute_result"
    }
   ],
   "source": [
    "nltk.download('wordnet')\n",
    "nltk.download('omw-1.4')"
   ]
  },
  {
   "cell_type": "code",
   "execution_count": 27,
   "id": "47282e03",
   "metadata": {},
   "outputs": [],
   "source": [
    "#creating a function to lemmatize our test and training data that we previously transformed \n",
    "\n",
    "lemmatizer=nltk.stem.WordNetLemmatizer()\n",
    "def lemmatzation(yes):\n",
    "    new_yes=[]\n",
    "    for i in yes:\n",
    "        i=lemmatizer.lemmatize(i)\n",
    "        new_yes.append(i)\n",
    "    return new_yes\n",
    "train_x=train_x.apply(lemmatzation)\n",
    "test_x=test_x.apply(lemmatzation)\n",
    "\n",
    "\n"
   ]
  },
  {
   "cell_type": "code",
   "execution_count": 28,
   "id": "06f2f915",
   "metadata": {},
   "outputs": [],
   "source": [
    "train_x=train_x.apply(lambda x: ''.join(i+' ' for i in x))\n",
    "test_x=test_x.apply(lambda x: ''.join(i+' ' for i in x))"
   ]
  },
  {
   "cell_type": "markdown",
   "id": "1c5640db",
   "metadata": {},
   "source": [
    "# Term frequency-Inverse Data Frequency"
   ]
  },
  {
   "cell_type": "code",
   "execution_count": 30,
   "id": "627b1e41",
   "metadata": {},
   "outputs": [],
   "source": [
    "tfidf=TfidfVectorizer()\n",
    "train_1=tfidf.fit_transform(train_x)\n",
    "test_1=tfidf.transform(test_x)"
   ]
  },
  {
   "cell_type": "code",
   "execution_count": 32,
   "id": "3b9faab6",
   "metadata": {},
   "outputs": [],
   "source": [
    "corpus = []\n",
    "wordnet=WordNetLemmatizer()\n",
    "\n",
    "for i in range(0, len(df)):\n",
    "    review = re.sub('[^a-zA-Z]', ' ', df['headline'][i])\n",
    "    review = review.lower()\n",
    "    review = review.split()\n",
    "    \n",
    "    review = [wordnet.lemmatize(word) for word in review if not word in stopwords.words('english')]\n",
    "    review = ' '.join(review)\n",
    "    corpus.append(review)"
   ]
  },
  {
   "cell_type": "code",
   "execution_count": 33,
   "id": "c429773c",
   "metadata": {},
   "outputs": [],
   "source": [
    "cv = CountVectorizer(max_features=5000,ngram_range=(2,2))\n",
    "X = cv.fit_transform(corpus).toarray()"
   ]
  },
  {
   "cell_type": "code",
   "execution_count": 35,
   "id": "debe2c12",
   "metadata": {},
   "outputs": [],
   "source": [
    "## Get Features names\n",
    "feature_names = cv.get_feature_names()"
   ]
  },
  {
   "cell_type": "markdown",
   "id": "8a2fd221",
   "metadata": {},
   "source": [
    "# Training the Model (Bag of Words)\n",
    "\n",
    "\n"
   ]
  },
  {
   "cell_type": "code",
   "execution_count": 37,
   "id": "09d397d5",
   "metadata": {},
   "outputs": [],
   "source": [
    "#converting our transformed training and test into an array to be able to implement the Naive Bayes Classifier \n",
    "train_arr=train_1.toarray()\n",
    "test_arr=test_1.toarray()\n"
   ]
  },
  {
   "cell_type": "code",
   "execution_count": 38,
   "id": "8701cee8",
   "metadata": {},
   "outputs": [],
   "source": [
    "#defining the multinomial naive bayes classifier and fitting our data \n",
    "NB_MN=MultinomialNB()\n",
    "NB_MN.fit(train_arr,train_y)\n",
    "pred=NB_MN.predict(test_arr)"
   ]
  },
  {
   "cell_type": "code",
   "execution_count": 51,
   "id": "219cf9db",
   "metadata": {},
   "outputs": [],
   "source": [
    "#defining our list of feature names that we created with the count vectorizer \n",
    "feature_names = cv.get_feature_names()"
   ]
  },
  {
   "cell_type": "code",
   "execution_count": 42,
   "id": "82a044ad",
   "metadata": {},
   "outputs": [
    {
     "name": "stderr",
     "output_type": "stream",
     "text": [
      "/Users/joseangelpicon/opt/anaconda3/lib/python3.9/site-packages/sklearn/utils/deprecation.py:101: FutureWarning: Attribute coef_ was deprecated in version 0.24 and will be removed in 1.1 (renaming of 0.26).\n",
      "  warnings.warn(msg, category=FutureWarning)\n"
     ]
    },
    {
     "data": {
      "text/plain": [
       "[(-5.749215262182099, 'america next'),\n",
       " (-5.771644022527149, 'favorite holiday'),\n",
       " (-5.9604190225250955, 'game open'),\n",
       " (-6.159109877089317, 'much fun'),\n",
       " (-6.5293924107890415, 'microsoft release'),\n",
       " (-6.529483790576303, 'nine dead'),\n",
       " (-6.610147763956935, 'went college'),\n",
       " (-6.627401824874115, 'want eat'),\n",
       " (-6.705896555273024, 'student know'),\n",
       " (-6.799242555395595, 'marriage thing'),\n",
       " (-6.8732797863811035, 'holiday season'),\n",
       " (-6.896638415023475, 'pride parade'),\n",
       " (-7.021176942070851, 'apple executive'),\n",
       " (-7.0237054275719855, 'car bomb'),\n",
       " (-7.037152143096449, 'chocolate chip'),\n",
       " (-7.136049693030628, 'gaza strip'),\n",
       " (-7.1407804207672205, 'runoff election'),\n",
       " (-7.150498887288821, 'rise china'),\n",
       " (-7.1640246870010404, 'great britain'),\n",
       " (-7.164030709639263, 'thing definitely')]"
      ]
     },
     "execution_count": 42,
     "metadata": {},
     "output_type": "execute_result"
    }
   ],
   "source": [
    "# word sets that are mostly not clickbait \n",
    "sorted(zip(NB_MN.coef_[0], feature_names), reverse=True)[:5]"
   ]
  },
  {
   "cell_type": "markdown",
   "id": "b37f5499",
   "metadata": {},
   "source": [
    "Above, we can see a list of the top 20 word combinations that are most likely to not be clickbait from our dataset. With 'america next', 'favorite holiday', and 'game open', being the top three word combinations that are most likely to not be clickbait. "
   ]
  },
  {
   "cell_type": "code",
   "execution_count": 43,
   "id": "a0d4bdc4",
   "metadata": {},
   "outputs": [
    {
     "data": {
      "text/plain": [
       "[(-10.779426165601818, 'able answer'),\n",
       " (-10.779426165601818, 'able stop'),\n",
       " (-10.779426165601818, 'absolute best'),\n",
       " (-10.779426165601818, 'absolutely stunning'),\n",
       " (-10.779426165601818, 'abuse case'),\n",
       " (-10.779426165601818, 'academy award'),\n",
       " (-10.779426165601818, 'academy illinois'),\n",
       " (-10.779426165601818, 'acceptance speech'),\n",
       " (-10.779426165601818, 'accused stealing'),\n",
       " (-10.779426165601818, 'across iraq'),\n",
       " (-10.779426165601818, 'action movie'),\n",
       " (-10.779426165601818, 'activist arrested'),\n",
       " (-10.779426165601818, 'actor look'),\n",
       " (-10.779426165601818, 'actual worst'),\n",
       " (-10.779426165601818, 'actually based'),\n",
       " (-10.779426165601818, 'actually belong'),\n",
       " (-10.779426165601818, 'actually best'),\n",
       " (-10.779426165601818, 'actually better'),\n",
       " (-10.779426165601818, 'actually buy'),\n",
       " (-10.779426165601818, 'actually delicious')]"
      ]
     },
     "execution_count": 43,
     "metadata": {},
     "output_type": "execute_result"
    }
   ],
   "source": [
    "# word sets that are mostly clickbait \n",
    "sorted(zip(NB_MN.coef_[0], feature_names))[:20]"
   ]
  },
  {
   "cell_type": "markdown",
   "id": "c037ef95",
   "metadata": {},
   "source": [
    "Just like with the previous list, above, we can see a list of the top 20 word combinations that are most likely to be clickbait from our dataset. With 'able answer', 'able stop', and 'absolute best', being the top three word combinations that are most likely to be clickbait. "
   ]
  },
  {
   "cell_type": "markdown",
   "id": "0917b38b",
   "metadata": {},
   "source": [
    "One thing to note with the list above is that the word combinations are not necisarily in order within the headline. For example, if we analyze our dataset, we can see that for the word combination \"microsoft release,\" most of the headlines have these two words next to each other. For example, \"Microsoft releases Windows Phone 7 to manufacturing\" or \"New Beta Version of MSN Search Service from Microsoft released,\" we can see \"microsoft\" and \"release\" next to each other. However, there are word combinations where the headline contains the word combo, but the two words are not next to each other. \n",
    "\n",
    "For example, in the word combo \"able answer,\" we have headlines such as \"15 Gossip Girl Trivia Questions Every True Fan Should Be Able To Answer\" or \"17 The West Wing Trivia Questions Only True Fans Will Be Able To Answer\". \n",
    "\n",
    "This suggest that in these two lists, the word combinations are words that are in the headline, but the two words do not nesicarily have to be sequential (next to each other in the headline). "
   ]
  },
  {
   "cell_type": "code",
   "execution_count": 53,
   "id": "6bd98d86",
   "metadata": {},
   "outputs": [
    {
     "name": "stdout",
     "output_type": "stream",
     "text": [
      "F1 score of the model\n",
      "96.23876960560378 %\n",
      "Accuracy of the model\n",
      "96.140625 %\n"
     ]
    }
   ],
   "source": [
    "print(\"F1 score of the model\")\n",
    "print(f1_score(test_y,pred)*100,\"%\")\n",
    "\n",
    "print(\"Accuracy of the model\")\n",
    "print(accuracy_score(test_y,pred)*100,\"%\")"
   ]
  },
  {
   "cell_type": "code",
   "execution_count": 54,
   "id": "82be6e4a",
   "metadata": {},
   "outputs": [
    {
     "name": "stdout",
     "output_type": "stream",
     "text": [
      "Confusion Matrix\n",
      "[[2993  131]\n",
      " [ 116 3160]]\n",
      "Classification Report\n",
      "              precision    recall  f1-score   support\n",
      "\n",
      "           0       0.96      0.96      0.96      3124\n",
      "           1       0.96      0.96      0.96      3276\n",
      "\n",
      "    accuracy                           0.96      6400\n",
      "   macro avg       0.96      0.96      0.96      6400\n",
      "weighted avg       0.96      0.96      0.96      6400\n",
      "\n"
     ]
    }
   ],
   "source": [
    "print(\"Confusion Matrix\")\n",
    "print(confusion_matrix(test_y,pred))\n",
    "\n",
    "print(\"Classification Report\")\n",
    "print(classification_report(test_y,pred))"
   ]
  },
  {
   "cell_type": "code",
   "execution_count": null,
   "id": "e0823f74",
   "metadata": {},
   "outputs": [],
   "source": []
  }
 ],
 "metadata": {
  "kernelspec": {
   "display_name": "Python 3 (ipykernel)",
   "language": "python",
   "name": "python3"
  },
  "language_info": {
   "codemirror_mode": {
    "name": "ipython",
    "version": 3
   },
   "file_extension": ".py",
   "mimetype": "text/x-python",
   "name": "python",
   "nbconvert_exporter": "python",
   "pygments_lexer": "ipython3",
   "version": "3.9.7"
  }
 },
 "nbformat": 4,
 "nbformat_minor": 5
}
