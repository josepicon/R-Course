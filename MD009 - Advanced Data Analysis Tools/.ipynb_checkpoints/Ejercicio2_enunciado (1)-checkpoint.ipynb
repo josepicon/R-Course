{
 "cells": [
  {
   "cell_type": "markdown",
   "metadata": {
    "collapsed": true
   },
   "source": [
    "# Ejercicio 2"
   ]
  },
  {
   "cell_type": "markdown",
   "metadata": {},
   "source": [
    "**1) Generar mediante el método de aceptación/rechazo una variable aleatoria que se distribuye según la función densidad de probabilidad siguiente:**"
   ]
  },
  {
   "cell_type": "markdown",
   "metadata": {},
   "source": [
    "$f(x)=\\frac{2}{\\pi}\\sqrt{1-x^2}$ con $x\\in[-1, 1]$."
   ]
  },
  {
   "cell_type": "markdown",
   "metadata": {},
   "source": [
    "**Dibujar el histograma de valores generados (10000 aceptados), que debería tener forma de media elipse.**"
   ]
  },
  {
   "cell_type": "markdown",
   "metadata": {},
   "source": [
    "**¿Cuál es la eficiencia en la generación?**"
   ]
  },
  {
   "cell_type": "markdown",
   "metadata": {},
   "source": [
    "**2) Prueba a generar la misma distribución y número de valores (10000) con un algoritmo de Metrópolis, escogiendo una 'jumping distribution' que te permita obtener mayor eficiencia de generación que el método anterior.** "
   ]
  },
  {
   "cell_type": "code",
   "execution_count": 1,
   "metadata": {},
   "outputs": [
    {
     "ename": "IndentationError",
     "evalue": "unexpected indent (1082043197.py, line 2)",
     "output_type": "error",
     "traceback": [
      "\u001b[0;36m  File \u001b[0;32m\"/var/folders/f7/z_6qsyw14dldjjqys6qv14bw0000gn/T/ipykernel_46537/1082043197.py\"\u001b[0;36m, line \u001b[0;32m2\u001b[0m\n\u001b[0;31m    for (k in 1:10000){\u001b[0m\n\u001b[0m    ^\u001b[0m\n\u001b[0;31mIndentationError\u001b[0m\u001b[0;31m:\u001b[0m unexpected indent\n"
     ]
    }
   ],
   "source": [
    "x <- 0 \n",
    "    for (k in 1:10000){\n",
    "        u1 = runif(1, 0, 1)\n",
    "        u2 = runif(1, 0, 1)\n",
    "        if(u1<5/6){\n",
    "            x[k] <- 2*u2\n",
    "        }else{\n",
    "            if(2*u2-1>0){\n",
    "                x[k] <- (2*u2-1)^(1/5) + 1\n",
    "            }\n",
    "            else{\n",
    "                x[k] <- -(1 - 2*u2)^(1/5) + 1\n",
    "            }\n",
    "        }\n",
    "    }\n",
    "\n"
   ]
  },
  {
   "cell_type": "code",
   "execution_count": null,
   "metadata": {},
   "outputs": [],
   "source": [
    "hist(x, freq=FALSE, breaks=50, col=\"lightblue\") # nolint\n",
    "curve((5/12)*(1+(x-1)^4), from=0, to=2, col= # nolint\n",
    "\"red\", add=TRUE) # nolint"
   ]
  }
 ],
 "metadata": {
  "interpreter": {
   "hash": "963d73e4aa0d72f8548eb216a375e08c1d2cba5db7daef5fd8a2f55c68b30434"
  },
  "kernelspec": {
   "display_name": "R",
   "language": "R",
   "name": "ir"
  },
  "language_info": {
   "codemirror_mode": "r",
   "file_extension": ".r",
   "mimetype": "text/x-r-source",
   "name": "R",
   "pygments_lexer": "r",
   "version": "3.6.1"
  }
 },
 "nbformat": 4,
 "nbformat_minor": 2
}
