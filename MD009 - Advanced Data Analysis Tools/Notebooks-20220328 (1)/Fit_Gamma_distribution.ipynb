{
 "cells": [
  {
   "cell_type": "markdown",
   "metadata": {},
   "source": [
    "# Ejemplo de ajuste (distribución gamma)"
   ]
  },
  {
   "cell_type": "markdown",
   "metadata": {},
   "source": [
    "**Generamos una muestra según una distribución $\\Gamma$ con parámetros $\\lambda=0.5$ y $\\alpha=3.5$.**"
   ]
  },
  {
   "cell_type": "code",
   "execution_count": 1,
   "metadata": {},
   "outputs": [
    {
     "data": {
      "image/png": "[encoded data removed]",
      "text/plain": [
       "Plot with title \"Histogram of x.gam\""
      ]
     },
     "metadata": {
      "image/png": {
       "height": 420,
       "width": 420
      }
     },
     "output_type": "display_data"
    }
   ],
   "source": [
    "x.gam <-rgamma(500, rate=0.5, shape=3.5)\n",
    "hist(x.gam)"
   ]
  },
  {
   "cell_type": "markdown",
   "metadata": {},
   "source": [
    "**A continuación ajustaremos los parámetros utilizando el método de máximo likelihood, mle(). Recordemos que la PDF es:**\n",
    "\n",
    "\\begin{equation*}\n",
    "\\frac{\\lambda^\\alpha}{\\Gamma(\\alpha)}x^{\\alpha-1}e^{-\\lambda x}\n",
    "\\end{equation*}\n",
    "\n",
    "**Con mle(), hemos de escribir explícitamente la expresión del -log Likelihood (LL). Y como valores iniciales de los parámetros, escogemos, arbitrariamente (suponiendo que desconocemos el valor usado en la generación), $\\lambda=2$, $\\alpha=1$.**"
   ]
  },
  {
   "cell_type": "code",
   "execution_count": 4,
   "metadata": {},
   "outputs": [
    {
     "data": {
      "text/plain": [
       "Maximum likelihood estimation\n",
       "\n",
       "Call:\n",
       "mle(minuslogl = LL, start = list(lambda = 2, alpha = 1), method = \"L-BFGS-B\", \n",
       "    lower = c(0.01, 0.01), upper = c(Inf, Inf))\n",
       "\n",
       "Coefficients:\n",
       "        Estimate Std. Error\n",
       "lambda 0.5154064 0.03345387\n",
       "alpha  3.7148126 0.22518879\n",
       "\n",
       "-2 log L: 2641.964 "
      ]
     },
     "metadata": {},
     "output_type": "display_data"
    }
   ],
   "source": [
    "library(stats4)\n",
    "LL<-function(lambda, alpha){\n",
    "    n=500\n",
    "    x<-x.gam\n",
    "    -n*alpha*log(lambda)+n*log(gamma(alpha))-(alpha-1)*sum(log(x))+lambda*sum(x)\n",
    "}\n",
    "fit <-mle(minuslog=LL, method = \"L-BFGS-B\", start = list(lambda = 2, alpha=1), lower = c(0.01, 0.01), upper = c(Inf, Inf))\n",
    "summary(fit)"
   ]
  },
  {
   "cell_type": "markdown",
   "metadata": {},
   "source": [
    "**Hemos obtenido del ajuste $\\lambda=0.515\\pm0.033$ y $\\alpha=3.71\\pm0.23$.**\n",
    "\n",
    "**Podríamos haber estimado un valor inicial de los parámetros utilizando el método de los momentos.**"
   ]
  },
  {
   "cell_type": "code",
   "execution_count": 5,
   "metadata": {},
   "outputs": [
    {
     "data": {
      "text/html": [
       "0.514722343066207"
      ],
      "text/latex": [
       "0.514722343066207"
      ],
      "text/markdown": [
       "0.514722343066207"
      ],
      "text/plain": [
       "[1] 0.5147223"
      ]
     },
     "metadata": {},
     "output_type": "display_data"
    },
    {
     "data": {
      "text/html": [
       "3.70988776941221"
      ],
      "text/latex": [
       "3.70988776941221"
      ],
      "text/markdown": [
       "3.70988776941221"
      ],
      "text/plain": [
       "[1] 3.709888"
      ]
     },
     "metadata": {},
     "output_type": "display_data"
    }
   ],
   "source": [
    "media = mean(x.gam)\n",
    "varianza = var(x.gam)\n",
    "lambda_estimada = media/varianza\n",
    "alpha_estimada = media^2/varianza\n",
    "lambda_estimada\n",
    "alpha_estimada"
   ]
  },
  {
   "cell_type": "markdown",
   "metadata": {},
   "source": [
    "**Hemos obtenido $\\lambda=0.51$ y $\\alpha=3.71$. Si los usamos como imput:**"
   ]
  },
  {
   "cell_type": "code",
   "execution_count": 6,
   "metadata": {},
   "outputs": [
    {
     "data": {
      "text/plain": [
       "Maximum likelihood estimation\n",
       "\n",
       "Call:\n",
       "mle(minuslogl = LL, start = list(lambda = lambda_estimada, alpha = alpha_estimada), \n",
       "    lower = c(0.01, 0.01))\n",
       "\n",
       "Coefficients:\n",
       "        Estimate Std. Error\n",
       "lambda 0.5154134 0.03345431\n",
       "alpha  3.7148646 0.22519207\n",
       "\n",
       "-2 log L: 2641.964 "
      ]
     },
     "metadata": {},
     "output_type": "display_data"
    }
   ],
   "source": [
    "fit2 <-mle(minuslog=LL, start = list(lambda = lambda_estimada, alpha=alpha_estimada), lower = c(0.01, 0.01))\n",
    "summary(fit2)"
   ]
  },
  {
   "cell_type": "markdown",
   "metadata": {},
   "source": [
    "**En este caso, llegamos al mismo mínimo, pero en casos más complejos, podríamos haber ido a parar a un mínimo local, y por ello se recomienda cierta precaución respecto a los valores iniciales.**\n",
    "\n",
    "**A continuación podemos ajustar, también maximizando el likelihood, usando fitdist(). En este caso, le podemos dar simplemente la PDF que queremos ajustar.**"
   ]
  },
  {
   "cell_type": "code",
   "execution_count": 7,
   "metadata": {},
   "outputs": [
    {
     "name": "stderr",
     "output_type": "stream",
     "text": [
      "Loading required package: fitdistrplus\n",
      "\n",
      "Loading required package: MASS\n",
      "\n",
      "Loading required package: survival\n",
      "\n"
     ]
    }
   ],
   "source": [
    "#library(MASS)\n",
    "require(fitdistrplus)\n",
    "fit3 <-fitdist(x.gam, \"gamma\")"
   ]
  },
  {
   "cell_type": "code",
   "execution_count": 8,
   "metadata": {},
   "outputs": [
    {
     "data": {
      "text/plain": [
       "Fitting of the distribution ' gamma ' by maximum likelihood \n",
       "Parameters:\n",
       "       estimate Std. Error\n",
       "shape 3.7155241 0.22523364\n",
       "rate  0.5154843 0.03345874"
      ]
     },
     "metadata": {},
     "output_type": "display_data"
    }
   ],
   "source": [
    "fit3"
   ]
  },
  {
   "cell_type": "markdown",
   "metadata": {},
   "source": [
    "**Obtenemos el mismo resultado que antes, ya que el método utilizado es el mismo. Además podemos obtener gráficas que comparan el ajuste con los datos:** "
   ]
  },
  {
   "cell_type": "code",
   "execution_count": 9,
   "metadata": {},
   "outputs": [
    {
     "data": {
      "image/png": "[encoded data removed]",
      "text/plain": [
       "Plot with title \"P-P plot\""
      ]
     },
     "metadata": {
      "image/png": {
       "height": 420,
       "width": 420
      }
     },
     "output_type": "display_data"
    }
   ],
   "source": [
    "plotdist(x.gam,\"gamma\",para=list(shape=fit3$estimate[1],rate=fit3$estimate[2]))"
   ]
  },
  {
   "cell_type": "markdown",
   "metadata": {},
   "source": [
    "**Si queremos obtener el valor del log likelihood:**"
   ]
  },
  {
   "cell_type": "code",
   "execution_count": 10,
   "metadata": {},
   "outputs": [
    {
     "data": {
      "text/html": [
       "-1320.98179783733"
      ],
      "text/latex": [
       "-1320.98179783733"
      ],
      "text/markdown": [
       "-1320.98179783733"
      ],
      "text/plain": [
       "[1] -1320.982"
      ]
     },
     "metadata": {},
     "output_type": "display_data"
    }
   ],
   "source": [
    "fit3$loglik"
   ]
  },
  {
   "cell_type": "markdown",
   "metadata": {},
   "source": [
    "**Podemos aplicar tests sobre la calidad del ajuste:** "
   ]
  },
  {
   "cell_type": "code",
   "execution_count": 11,
   "metadata": {},
   "outputs": [
    {
     "data": {
      "text/plain": [
       "Goodness-of-fit statistics\n",
       "                             1-mle-gamma\n",
       "Kolmogorov-Smirnov statistic  0.03105310\n",
       "Cramer-von Mises statistic    0.07522255\n",
       "Anderson-Darling statistic    0.46494059\n",
       "\n",
       "Goodness-of-fit criteria\n",
       "                               1-mle-gamma\n",
       "Akaike's Information Criterion    2645.964\n",
       "Bayesian Information Criterion    2654.393"
      ]
     },
     "metadata": {},
     "output_type": "display_data"
    }
   ],
   "source": [
    "gofstat(fit3)"
   ]
  },
  {
   "cell_type": "markdown",
   "metadata": {},
   "source": [
    "**Los tests de K-S, Cramer-von Mises y Anderson-Darling, calculan la bondad de ajuste en base a las funciones acumuladas (el segundo a partir de las diferencias al cuadrado y el tercero teniendo más peso las discrepancias en las colas). Se deben obtener valores pequeños, si el ajuste es bueno.\n",
    "AIC y BIC se calculan a partir del likelihood y el número de parámetros del modelo. Al comparar diferentes modelos, aquellos con un menor valor de AIC y BIC serán aquellos que ajusten mejor los datos.**"
   ]
  },
  {
   "cell_type": "markdown",
   "metadata": {},
   "source": [
    "**Finalmente, podemos usar la función nls() para el ajuste, basada en el método de mínimos cuadrados.**"
   ]
  },
  {
   "cell_type": "code",
   "execution_count": 13,
   "metadata": {},
   "outputs": [
    {
     "data": {
      "text/html": [
       "<style>\n",
       ".list-inline {list-style: none; margin:0; padding: 0}\n",
       ".list-inline>li {display: inline-block}\n",
       ".list-inline>li:not(:last-child)::after {content: \"\\00b7\"; padding: 0 .5ex}\n",
       "</style>\n",
       "<ol class=list-inline><li>2</li><li>15</li><li>38</li><li>41</li><li>55</li><li>59</li><li>60</li><li>46</li><li>60</li><li>32</li><li>22</li><li>20</li><li>13</li><li>9</li><li>6</li><li>6</li><li>2</li><li>6</li><li>0</li><li>5</li><li>2</li><li>1</li></ol>\n"
      ],
      "text/latex": [
       "\\begin{enumerate*}\n",
       "\\item 2\n",
       "\\item 15\n",
       "\\item 38\n",
       "\\item 41\n",
       "\\item 55\n",
       "\\item 59\n",
       "\\item 60\n",
       "\\item 46\n",
       "\\item 60\n",
       "\\item 32\n",
       "\\item 22\n",
       "\\item 20\n",
       "\\item 13\n",
       "\\item 9\n",
       "\\item 6\n",
       "\\item 6\n",
       "\\item 2\n",
       "\\item 6\n",
       "\\item 0\n",
       "\\item 5\n",
       "\\item 2\n",
       "\\item 1\n",
       "\\end{enumerate*}\n"
      ],
      "text/markdown": [
       "1. 2\n",
       "2. 15\n",
       "3. 38\n",
       "4. 41\n",
       "5. 55\n",
       "6. 59\n",
       "7. 60\n",
       "8. 46\n",
       "9. 60\n",
       "10. 32\n",
       "11. 22\n",
       "12. 20\n",
       "13. 13\n",
       "14. 9\n",
       "15. 6\n",
       "16. 6\n",
       "17. 2\n",
       "18. 6\n",
       "19. 0\n",
       "20. 5\n",
       "21. 2\n",
       "22. 1\n",
       "\n",
       "\n"
      ],
      "text/plain": [
       " [1]  2 15 38 41 55 59 60 46 60 32 22 20 13  9  6  6  2  6  0  5  2  1"
      ]
     },
     "metadata": {},
     "output_type": "display_data"
    },
    {
     "data": {
      "text/html": [
       "<style>\n",
       ".list-inline {list-style: none; margin:0; padding: 0}\n",
       ".list-inline>li {display: inline-block}\n",
       ".list-inline>li:not(:last-child)::after {content: \"\\00b7\"; padding: 0 .5ex}\n",
       "</style>\n",
       "<ol class=list-inline><li>0.5</li><li>1.5</li><li>2.5</li><li>3.5</li><li>4.5</li><li>5.5</li><li>6.5</li><li>7.5</li><li>8.5</li><li>9.5</li><li>10.5</li><li>11.5</li><li>12.5</li><li>13.5</li><li>14.5</li><li>15.5</li><li>16.5</li><li>17.5</li><li>18.5</li><li>19.5</li><li>20.5</li><li>21.5</li></ol>\n"
      ],
      "text/latex": [
       "\\begin{enumerate*}\n",
       "\\item 0.5\n",
       "\\item 1.5\n",
       "\\item 2.5\n",
       "\\item 3.5\n",
       "\\item 4.5\n",
       "\\item 5.5\n",
       "\\item 6.5\n",
       "\\item 7.5\n",
       "\\item 8.5\n",
       "\\item 9.5\n",
       "\\item 10.5\n",
       "\\item 11.5\n",
       "\\item 12.5\n",
       "\\item 13.5\n",
       "\\item 14.5\n",
       "\\item 15.5\n",
       "\\item 16.5\n",
       "\\item 17.5\n",
       "\\item 18.5\n",
       "\\item 19.5\n",
       "\\item 20.5\n",
       "\\item 21.5\n",
       "\\end{enumerate*}\n"
      ],
      "text/markdown": [
       "1. 0.5\n",
       "2. 1.5\n",
       "3. 2.5\n",
       "4. 3.5\n",
       "5. 4.5\n",
       "6. 5.5\n",
       "7. 6.5\n",
       "8. 7.5\n",
       "9. 8.5\n",
       "10. 9.5\n",
       "11. 10.5\n",
       "12. 11.5\n",
       "13. 12.5\n",
       "14. 13.5\n",
       "15. 14.5\n",
       "16. 15.5\n",
       "17. 16.5\n",
       "18. 17.5\n",
       "19. 18.5\n",
       "20. 19.5\n",
       "21. 20.5\n",
       "22. 21.5\n",
       "\n",
       "\n"
      ],
      "text/plain": [
       " [1]  0.5  1.5  2.5  3.5  4.5  5.5  6.5  7.5  8.5  9.5 10.5 11.5 12.5 13.5 14.5\n",
       "[16] 15.5 16.5 17.5 18.5 19.5 20.5 21.5"
      ]
     },
     "metadata": {},
     "output_type": "display_data"
    },
    {
     "data": {
      "image/png": "[encoded data removed]",
      "text/plain": [
       "Plot with title \"Histogram of x.gam\""
      ]
     },
     "metadata": {
      "image/png": {
       "height": 420,
       "width": 420
      }
     },
     "output_type": "display_data"
    }
   ],
   "source": [
    "hdata <- hist(x.gam, breaks=20)\n",
    "hdata$counts\n",
    "hdata$mids"
   ]
  },
  {
   "cell_type": "code",
   "execution_count": 14,
   "metadata": {},
   "outputs": [],
   "source": [
    "x<-hdata$mids\n",
    "y <- hdata$counts"
   ]
  },
  {
   "cell_type": "code",
   "execution_count": 15,
   "metadata": {},
   "outputs": [],
   "source": [
    "fit4 <- nls(y~b*(lb^a)/gamma(a)*x^(a-1)*exp(-lb*x), start=list(lb=0.5,a=3, b=500))"
   ]
  },
  {
   "cell_type": "code",
   "execution_count": 16,
   "metadata": {},
   "outputs": [
    {
     "data": {
      "text/plain": [
       "\n",
       "Formula: y ~ b * (lb^a)/gamma(a) * x^(a - 1) * exp(-lb * x)\n",
       "\n",
       "Parameters:\n",
       "   Estimate Std. Error t value Pr(>|t|)    \n",
       "lb   0.5215     0.0543   9.604 1.00e-08 ***\n",
       "a    3.8142     0.3321  11.486 5.41e-10 ***\n",
       "b  499.7089    22.6269  22.085 5.21e-15 ***\n",
       "---\n",
       "Signif. codes:  0 '***' 0.001 '**' 0.01 '*' 0.05 '.' 0.1 ' ' 1\n",
       "\n",
       "Residual standard error: 5.246 on 19 degrees of freedom\n",
       "\n",
       "Number of iterations to convergence: 7 \n",
       "Achieved convergence tolerance: 2.085e-06\n"
      ]
     },
     "metadata": {},
     "output_type": "display_data"
    }
   ],
   "source": [
    "summary(fit4)"
   ]
  },
  {
   "cell_type": "markdown",
   "metadata": {},
   "source": [
    "**Obtenemos del ajuste $\\lambda=0.52\\pm0.05$ y $\\alpha=3.81\\pm0.33$.**"
   ]
  },
  {
   "cell_type": "code",
   "execution_count": 22,
   "metadata": {},
   "outputs": [
    {
     "data": {
      "image/png": "[encoded data removed]",
      "text/plain": [
       "plot without title"
      ]
     },
     "metadata": {
      "image/png": {
       "height": 420,
       "width": 420
      }
     },
     "output_type": "display_data"
    }
   ],
   "source": [
    "plot(x,y, ylim=c(0, 80), pch=19)\n",
    "par1 = coef(fit4)[1]\n",
    "par2 = coef(fit4)[2]\n",
    "par3 = coef(fit4)[3]\n",
    "curve(par3*(par1^par2)/gamma(par2)*x^(par2-1)*exp(-par1*x), 0, 23, add=T, col=2, lwd=5)"
   ]
  },
  {
   "cell_type": "code",
   "execution_count": null,
   "metadata": {},
   "outputs": [],
   "source": []
  }
 ],
 "metadata": {
  "kernelspec": {
   "display_name": "R",
   "language": "R",
   "name": "ir"
  },
  "language_info": {
   "codemirror_mode": "r",
   "file_extension": ".r",
   "mimetype": "text/x-r-source",
   "name": "R",
   "pygments_lexer": "r",
   "version": "3.6.1"
  }
 },
 "nbformat": 4,
 "nbformat_minor": 2
}
